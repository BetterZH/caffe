{
 "metadata": {
  "name": ""
 },
 "nbformat": 3,
 "nbformat_minor": 0,
 "worksheets": [
  {
   "cells": [
    {
     "cell_type": "code",
     "collapsed": false,
     "input": [
      "from localdefs import *\n",
      "from pylab import *\n",
      "from plotting import *\n",
      "from pascal import class_name_bg, class_names, n_class, n_class_plus, conf_counts_single, accuracies_from_conf\n",
      "from PIL import Image\n",
      "import os\n",
      "%matplotlib inline\n",
      "\n",
      "figsize(15,8)"
     ],
     "language": "python",
     "metadata": {},
     "outputs": []
    },
    {
     "cell_type": "code",
     "collapsed": false,
     "input": [
      "voc_root = '../data/pascal/VOCdevkit/VOC2012'\n",
      "#seg_files = \n",
      "\n",
      "\n",
      "with open(voc_root + '/ImageSets/Segmentation/train.txt') as ff:\n",
      "    seg_train = [line.strip() for line in ff.readlines()]\n",
      "with open(voc_root + '/ImageSets/Segmentation/val.txt') as ff:\n",
      "    seg_val = [line.strip() for line in ff.readlines()]\n",
      "with open(voc_root + '/ImageSets/Segmentation/trainval.txt') as ff:\n",
      "    seg_trainval = [line.strip() for line in ff.readlines()]"
     ],
     "language": "python",
     "metadata": {},
     "outputs": []
    },
    {
     "cell_type": "code",
     "collapsed": false,
     "input": [
      "def get_filenames(voc_root, example_id):\n",
      "    '''Get filenames for jpg, ...'''\n",
      "    ret = []\n",
      "    ret.append('%s/Annotations/%s.xml' % (voc_root, example_id))\n",
      "    ret.append('%s/JPEGImages/%s.jpg' % (voc_root, example_id))\n",
      "    ret.append('%s/SegmentationClass/%s.png' % (voc_root, example_id))\n",
      "    ret.append('%s/SegmentationObject/%s.png' % (voc_root, example_id))\n",
      "    return tuple(ret)\n",
      "\n",
      "def idcmap():\n",
      "    ll = [[((ii*1234)%256)/255.0,\n",
      "           ((ii*2345)%256)/255.0,\n",
      "           ((ii*3456)%256)/255.0,\n",
      "           1.0] for ii in range(256)]\n",
      "    ll[255] = [224/255.,224/255.,192/255., 1.0]\n",
      "    cmap = cm.colors.ListedColormap(ll)\n",
      "    return cmap"
     ],
     "language": "python",
     "metadata": {},
     "outputs": []
    },
    {
     "cell_type": "markdown",
     "metadata": {},
     "source": [
      "## Example image + segmentation\n"
     ]
    },
    {
     "cell_type": "code",
     "collapsed": false,
     "input": [
      "example_id = '2007_000032'\n",
      "file_ant, file_jpg, file_segclass, file_segobj = get_filenames(voc_root, example_id)\n",
      "\n",
      "im_jpg = Image.open(file_jpg)\n",
      "figsize(15,4)\n",
      "showimage(array(im_jpg))"
     ],
     "language": "python",
     "metadata": {},
     "outputs": []
    },
    {
     "cell_type": "code",
     "collapsed": false,
     "input": [
      "arr_segclass = array(Image.open(file_segclass))\n",
      "_=imshow(arr_segclass, cmap=idcmap())"
     ],
     "language": "python",
     "metadata": {},
     "outputs": []
    },
    {
     "cell_type": "code",
     "collapsed": false,
     "input": [
      "_=hist(arr_segclass.flatten(), bins=256)"
     ],
     "language": "python",
     "metadata": {},
     "outputs": []
    },
    {
     "cell_type": "code",
     "collapsed": false,
     "input": [
      "arr_segobj = array(Image.open(file_segobj))\n",
      "_=imshow(arr_segobj, cmap=idcmap())"
     ],
     "language": "python",
     "metadata": {},
     "outputs": []
    },
    {
     "cell_type": "markdown",
     "metadata": {},
     "source": [
      "## Accuracy"
     ]
    },
    {
     "cell_type": "markdown",
     "metadata": {},
     "source": [
      "For a single image"
     ]
    },
    {
     "cell_type": "code",
     "collapsed": false,
     "input": [
      "proposed_seg = randint(0, n_class_plus, arr_segclass.shape)\n",
      "_=imshow(proposed_seg, cmap=idcmap())"
     ],
     "language": "python",
     "metadata": {},
     "outputs": []
    },
    {
     "cell_type": "code",
     "collapsed": false,
     "input": [
      "counts = conf_counts_single(arr_segclass, proposed_seg, verbose=False)\n",
      "print reshape(counts, (n_class_plus, n_class_plus))[:3]\n",
      "print '...'"
     ],
     "language": "python",
     "metadata": {},
     "outputs": []
    },
    {
     "cell_type": "markdown",
     "metadata": {},
     "source": [
      "For many images"
     ]
    },
    {
     "cell_type": "code",
     "collapsed": false,
     "input": [
      "conf_counts_all = zeros((n_class_plus,n_class_plus))\n",
      "\n",
      "for ii, im_id in enumerate(seg_val[:]):\n",
      "    file_ant, file_jpg, file_segclass, file_segobj = get_filenames(voc_root, im_id)\n",
      "    gt_segclass = array(Image.open(file_segclass))\n",
      "    \n",
      "    proposed_seg = 0*randint(0, n_class_plus, gt_segclass.shape)\n",
      "\n",
      "    conf_counts = conf_counts_single(gt_segclass, proposed_seg)\n",
      "    conf_counts_all.flat += conf_counts\n",
      "    if ii % 100 == 0:\n",
      "        print ii\n",
      "\n",
      "accs_21 = accuracies_from_conf(conf_counts_all)\n",
      "print 'Class accuracies:', accs_21\n",
      "print 'mean(accuracies):', mean(accs_21)"
     ],
     "language": "python",
     "metadata": {},
     "outputs": []
    },
    {
     "cell_type": "markdown",
     "metadata": {},
     "source": [
      "### Scratch"
     ]
    },
    {
     "cell_type": "code",
     "collapsed": false,
     "input": [
      "%connect_info"
     ],
     "language": "python",
     "metadata": {},
     "outputs": []
    }
   ],
   "metadata": {}
  }
 ]
}