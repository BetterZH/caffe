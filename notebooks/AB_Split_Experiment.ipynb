{
 "metadata": {
  "name": ""
 },
 "nbformat": 3,
 "nbformat_minor": 0,
 "worksheets": [
  {
   "cells": [
    {
     "cell_type": "markdown",
     "metadata": {},
     "source": [
      "View at: http://nbviewer.ipython.org/url/yosinski.cs.cornell.edu/AB_Split_Experiment.ipynb\n"
     ]
    },
    {
     "cell_type": "code",
     "collapsed": false,
     "input": [
      "from localdefs import *\n",
      "from pylab import *\n",
      "%matplotlib inline\n",
      "\n",
      "# Add some locations to path\n",
      "caffe_root = '../'\n",
      "import sys\n",
      "sys.path.insert(0, caffe_root + 'python')\n",
      "sys.path.insert(0, caffe_root + 'jason')\n",
      "\n",
      "results_root = caffe_root + 'examples/imagenet/results/'\n",
      "figsize(15,8)"
     ],
     "language": "python",
     "metadata": {},
     "outputs": []
    },
    {
     "cell_type": "code",
     "collapsed": false,
     "input": [
      "from plot_perf import read_info, convert_dict\n",
      "import glob\n",
      "\n",
      "\n",
      "def load_results(filename_pattern):\n",
      "    logfiles = glob.glob(filename_pattern)\n",
      "\n",
      "    #print 'got files:', logfiles\n",
      "\n",
      "    dicts = read_info(logfiles)\n",
      "\n",
      "    arrays = [convert_dict(dd) for dd in dicts]\n",
      "    #loss_train, lr, test_score_0, test_score_1 = dicts\n",
      "\n",
      "    ret = dict()\n",
      "    ret['train_loss'] =   {'idx': arrays[0][0], 'val': arrays[0][1]}  # training loss\n",
      "    ret['lr'] =           {'idx': arrays[1][0], 'val': arrays[1][1]}  # learning rate\n",
      "    ret['test_score_0'] = {'idx': arrays[2][0], 'val': arrays[2][1]}  # top-1 accuracy on valid set\n",
      "    ret['test_score_1'] = {'idx': arrays[3][0], 'val': arrays[3][1]}  # loss on valid set\n",
      "    \n",
      "    # Also make test_score_* available under more friendly names:\n",
      "    ret['valid_loss'] = ret['test_score_1']\n",
      "    ret['valid_top1_acc'] = ret['test_score_0']\n",
      "    \n",
      "    return ret\n",
      "    "
     ],
     "language": "python",
     "metadata": {},
     "outputs": []
    },
    {
     "cell_type": "code",
     "collapsed": false,
     "input": [
      "result_base = load_results(results_root + '14*netbase/*.[eo]*')\n",
      "\n",
      "def plot_results(res, ax1='tight', ax2='tight'):\n",
      "    #figsize(16,10)\n",
      "    #subplot(2,1,1)\n",
      "\n",
      "    subplot2grid((2,3), (0,0), colspan=2)\n",
      "    #plot(res['train_loss']['idx'], res['train_loss']['val'], 'b')\n",
      "    #plot(res['valid_loss']['idx'], res['valid_loss']['val'], 'r')\n",
      "    plot(res['train_loss']['idx'], res['train_loss']['val'])\n",
      "    plot(res['valid_loss']['idx'], res['valid_loss']['val'])\n",
      "    ylabel('loss')\n",
      "\n",
      "    subplot2grid((2,3), (0,2), colspan=1)\n",
      "    #plot(res['train_loss']['idx'], res['train_loss']['val'], 'b')\n",
      "    #plot(res['valid_loss']['idx'], res['valid_loss']['val'], 'r')\n",
      "    plot(res['train_loss']['idx'], res['train_loss']['val'])\n",
      "    plot(res['valid_loss']['idx'], res['valid_loss']['val'])\n",
      "    axis(ax1)\n",
      "    \n",
      "    subplot2grid((2,3), (1,0), colspan=2)\n",
      "    #subplot(2,1,2)\n",
      "    plot(res['valid_top1_acc']['idx'], 1-res['valid_top1_acc']['val'], 'b')\n",
      "    ylabel('top-1 err')\n",
      "\n",
      "    subplot2grid((2,3), (1,2), colspan=1)\n",
      "    #subplot(2,1,2)\n",
      "    plot(res['valid_top1_acc']['idx'], 1-res['valid_top1_acc']['val'], 'b')\n",
      "    axis(ax2)\n",
      "\n",
      "plot_results(result_base, ax1=(300000, 450000, 0, 2), ax2=(300000, 450000, .3, .5))"
     ],
     "language": "python",
     "metadata": {},
     "outputs": []
    },
    {
     "cell_type": "code",
     "collapsed": false,
     "input": [
      "result_hh = load_results(results_root + '*half0A/*.[eo]*')\n",
      "#plot_results(result_hh)\n",
      "plot_results(result_hh, ax1=(300000, 450000, 0, 2), ax2=(300000, 450000, .3, .5))"
     ],
     "language": "python",
     "metadata": {},
     "outputs": []
    },
    {
     "cell_type": "code",
     "collapsed": false,
     "input": [
      "all_splits = []\n",
      "suffixes = ('0A', '0B', '1A', '1B', '2A', '2B', '3A', '3B')\n",
      "\n",
      "for suffix in suffixes:\n",
      "    result = load_results(results_root + '*half%s/*.[eo]*' % suffix)\n",
      "    all_splits.append(result)"
     ],
     "language": "python",
     "metadata": {},
     "outputs": []
    },
    {
     "cell_type": "markdown",
     "metadata": {},
     "source": [
      "Here we can see that the top-1 error is better for the split sets (colors) than the base set of 1000 (black)"
     ]
    },
    {
     "cell_type": "code",
     "collapsed": false,
     "input": [
      "for split in all_splits:\n",
      "    plot(split['valid_top1_acc']['idx'], 1-split['valid_top1_acc']['val'])\n",
      "plot(result_base['valid_top1_acc']['idx'], 1-result_base['valid_top1_acc']['val'], 'k', linewidth=2)"
     ],
     "language": "python",
     "metadata": {},
     "outputs": []
    },
    {
     "cell_type": "code",
     "collapsed": false,
     "input": [
      "for split in all_splits:\n",
      "    plot(split['valid_loss']['idx'], split['valid_loss']['val'])\n",
      "plot(result_base['valid_loss']['idx'], result_base['valid_loss']['val'], 'k', linewidth=2)"
     ],
     "language": "python",
     "metadata": {},
     "outputs": []
    }
   ],
   "metadata": {}
  }
 ]
}