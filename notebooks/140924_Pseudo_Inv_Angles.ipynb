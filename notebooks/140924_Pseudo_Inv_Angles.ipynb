{
 "metadata": {
  "name": ""
 },
 "nbformat": 3,
 "nbformat_minor": 0,
 "worksheets": [
  {
   "cells": [
    {
     "cell_type": "code",
     "collapsed": false,
     "input": [
      "from pylab import *\n",
      "%matplotlib inline"
     ],
     "language": "python",
     "metadata": {},
     "outputs": []
    },
    {
     "cell_type": "markdown",
     "metadata": {},
     "source": [
      "# Small 8x3 example"
     ]
    },
    {
     "cell_type": "markdown",
     "metadata": {},
     "source": [
      "Generate a random 8x3 $A$ matrix with each entry from $N(0,1)$"
     ]
    },
    {
     "cell_type": "code",
     "collapsed": false,
     "input": [
      "seed(0)\n",
      "A = randn(8,3)\n",
      "print A.shape\n",
      "print A"
     ],
     "language": "python",
     "metadata": {},
     "outputs": []
    },
    {
     "cell_type": "markdown",
     "metadata": {},
     "source": [
      "Find the pseudoinverse of $A$"
     ]
    },
    {
     "cell_type": "code",
     "collapsed": false,
     "input": [
      "A_pinv = pinv(A)\n",
      "print A_pinv.shape\n",
      "print A_pinv"
     ],
     "language": "python",
     "metadata": {},
     "outputs": []
    },
    {
     "cell_type": "markdown",
     "metadata": {},
     "source": [
      "Compute the angles between rows of $A'$ and the corresponding row of $A_{pinv}$ using cosine rule."
     ]
    },
    {
     "cell_type": "code",
     "collapsed": false,
     "input": [
      "mag_A = norm(A, ord=2, axis=1)\n",
      "print mag_A"
     ],
     "language": "python",
     "metadata": {},
     "outputs": []
    },
    {
     "cell_type": "code",
     "collapsed": false,
     "input": [
      "mag_A_pinv = norm(A_pinv.T, ord=2, axis=1)\n",
      "print mag_A_pinv"
     ],
     "language": "python",
     "metadata": {},
     "outputs": []
    },
    {
     "cell_type": "code",
     "collapsed": false,
     "input": [
      "dot_A_A_pinv = (A * A_pinv.T).sum(1)\n",
      "print dot_A_A_pinv"
     ],
     "language": "python",
     "metadata": {},
     "outputs": []
    },
    {
     "cell_type": "code",
     "collapsed": false,
     "input": [
      "angles = arccos(dot_A_A_pinv / (mag_A * mag_A_pinv)) * 180/pi\n",
      "print 'Angles between rows are:', angles"
     ],
     "language": "python",
     "metadata": {},
     "outputs": []
    },
    {
     "cell_type": "code",
     "collapsed": false,
     "input": [
      "rcParams['figure.figsize'] = (12,4)\n",
      "hist(angles)\n",
      "_=title('Angles: %.1f $\\pm$ %.1f' % (angles.mean(), angles.std()))"
     ],
     "language": "python",
     "metadata": {},
     "outputs": []
    },
    {
     "cell_type": "markdown",
     "metadata": {},
     "source": [
      "The average angle for this small example is about 30 degrees."
     ]
    },
    {
     "cell_type": "markdown",
     "metadata": {},
     "source": [
      "# A larger example"
     ]
    },
    {
     "cell_type": "markdown",
     "metadata": {},
     "source": [
      "Now let's try an 800x400 matrix"
     ]
    },
    {
     "cell_type": "code",
     "collapsed": false,
     "input": [
      "seed(0)\n",
      "A = randn(800,400)\n",
      "A_pinv = pinv(A)\n",
      "mag_A = norm(A, ord=2, axis=1)\n",
      "mag_A_pinv = norm(A_pinv.T, ord=2, axis=1)\n",
      "dot_A_A_pinv = (A * A_pinv.T).sum(1)\n",
      "angles = arccos(dot_A_A_pinv / (mag_A * mag_A_pinv)) * 180/pi\n",
      "hist(angles, 20)\n",
      "_=title('Angles: %.1f $\\pm$ %.1f' % (angles.mean(), angles.std()))"
     ],
     "language": "python",
     "metadata": {},
     "outputs": []
    },
    {
     "cell_type": "markdown",
     "metadata": {},
     "source": [
      "Angles are distributed about approximately 45 degrees"
     ]
    },
    {
     "cell_type": "markdown",
     "metadata": {},
     "source": [
      "# Try many different matrix sizes"
     ]
    },
    {
     "cell_type": "markdown",
     "metadata": {},
     "source": [
      "Generate the above histogram for $m$x$n$ matrices for $m$ and $n$ in $\\{50, 100, 200, 400\\}$"
     ]
    },
    {
     "cell_type": "code",
     "collapsed": false,
     "input": [
      "def plot_angles(m, n, mult=1.0, randfn=randn):\n",
      "    seed(0)\n",
      "    A = randfn(m,n) * mult\n",
      "    A_pinv = pinv(A)\n",
      "    mag_A = norm(A, ord=2, axis=1)\n",
      "    mag_A_pinv = norm(A_pinv.T, ord=2, axis=1)\n",
      "    dot_A_A_pinv = (A * A_pinv.T).sum(1)\n",
      "    angles = arccos(dot_A_A_pinv / (mag_A * mag_A_pinv)) * 180/pi\n",
      "    hist(angles, 10)\n",
      "    axis(xmin=0, xmax=90)\n",
      "    _=title('%dx%d, mult: %g, angles: %.1f $\\pm$ %.1f' % (m, n, mult, angles.mean(), angles.std()))"
     ],
     "language": "python",
     "metadata": {},
     "outputs": []
    },
    {
     "cell_type": "code",
     "collapsed": false,
     "input": [
      "rcParams['figure.figsize'] = (18,12)\n",
      "count=0\n",
      "for m in (50, 100, 200, 400):\n",
      "    for n in (50, 100, 200, 400):\n",
      "        count += 1\n",
      "        subplot(4,4,count)\n",
      "        plot_angles(m, n)"
     ],
     "language": "python",
     "metadata": {},
     "outputs": []
    },
    {
     "cell_type": "markdown",
     "metadata": {},
     "source": [
      "Conclusion: the average angles between matrices vary widely. When the matrix is approximately square, angles are close to 90 (subplots on diagonal). As the matrix becomes rectangular in either direction (subplots off diagonal), the average angles decrease depending largely on the ratio of the small side to the large side, $min(m/n, n/m)$. For example the means of the distributions for 50x100, 100x200, 200x400, 100x50, 200x100, and 400x200 are similar. The spread of the distribution changes slightly.\n",
      "\n",
      "Now we can try $N(0,5)$ instead of $N(0,1)$:"
     ]
    },
    {
     "cell_type": "code",
     "collapsed": false,
     "input": [
      "count=0\n",
      "for m in (50, 100, 200, 400):\n",
      "    for n in (50, 100, 200, 400):\n",
      "        count += 1\n",
      "        subplot(4,4,count)\n",
      "        plot_angles(m, n, mult=5.0)"
     ],
     "language": "python",
     "metadata": {},
     "outputs": []
    },
    {
     "cell_type": "markdown",
     "metadata": {},
     "source": [
      "Conclusion: no change. The angles are the same whether matrix entries are drawn from $N(0,1)$ or $N(0,5)$.\n",
      "\n",
      "Now let's try a uniform distribution instead of normal:"
     ]
    },
    {
     "cell_type": "code",
     "collapsed": false,
     "input": [
      "count=0\n",
      "for m in (50, 100, 200, 400):\n",
      "    for n in (50, 100, 200, 400):\n",
      "        count += 1\n",
      "        subplot(4,4,count)\n",
      "        plot_angles(m, n, mult=1.0, randfn=rand)"
     ],
     "language": "python",
     "metadata": {},
     "outputs": []
    },
    {
     "cell_type": "markdown",
     "metadata": {},
     "source": [
      "Conclusion: Angles for matrices with entries from $U(0,1)$ decay differently than those from $N(0,1)$, but still only depending on the small-dimension to big-dimension ratio.\n",
      "\n",
      "Now try $U(0,5)$ instead of $U(0,1)$:"
     ]
    },
    {
     "cell_type": "code",
     "collapsed": false,
     "input": [
      "rcParams['figure.figsize'] = (18,12)\n",
      "count=0\n",
      "for m in (50, 100, 200, 400):\n",
      "    for n in (50, 100, 200, 400):\n",
      "        count += 1\n",
      "        subplot(4,4,count)\n",
      "        plot_angles(m, n, mult=5.0, randfn=rand)"
     ],
     "language": "python",
     "metadata": {},
     "outputs": []
    },
    {
     "cell_type": "markdown",
     "metadata": {},
     "source": [
      "Conclusion: no change."
     ]
    }
   ],
   "metadata": {}
  }
 ]
}