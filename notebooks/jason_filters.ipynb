{
 "metadata": {
  "name": ""
 },
 "nbformat": 3,
 "nbformat_minor": 0,
 "worksheets": [
  {
   "cells": [
    {
     "cell_type": "markdown",
     "metadata": {},
     "source": [
      "# Sandbox"
     ]
    },
    {
     "cell_type": "markdown",
     "metadata": {},
     "source": [
      "Based on `filter_visualization.ipynb`"
     ]
    },
    {
     "cell_type": "markdown",
     "metadata": {},
     "source": [
      "## Imports"
     ]
    },
    {
     "cell_type": "code",
     "collapsed": false,
     "input": [
      "import pylab\n",
      "from pylab import *\n",
      "%matplotlib inline\n",
      "pylab.rcParams['figure.figsize'] = (18,9)\n",
      "plt.rcParams['image.interpolation'] = 'nearest'\n",
      "plt.rcParams['image.cmap'] = 'gray'\n",
      "\n",
      "# Make sure that caffe is on the python path:\n",
      "caffe_root = '../'  # this file is expected to be in {caffe_root}/examples\n",
      "import sys\n",
      "sys.path.insert(0, caffe_root + 'python')\n",
      "import caffe\n",
      "import caffe.imagenet\n",
      "\n",
      "from datetime import datetime\n",
      "print datetime.now()"
     ],
     "language": "python",
     "metadata": {},
     "outputs": []
    },
    {
     "cell_type": "code",
     "collapsed": false,
     "input": [
      "results_dir = '../examples/imagenet/results/140311_234854_afadfd3_priv_netbase/'\n",
      "\n",
      "net = caffe.imagenet.ImageNetClassifier('../examples/imagenet/imagenet_deploy.prototxt',\n",
      "                                        results_dir + 'caffe_imagenet_train_iter_450000')\n",
      "net.caffenet.set_phase_test()\n",
      "net.caffenet.set_mode_cpu()\n",
      "\n",
      "print net"
     ],
     "language": "python",
     "metadata": {},
     "outputs": []
    },
    {
     "cell_type": "code",
     "collapsed": false,
     "input": [
      "# More setup\n",
      "def figsize(width,height):\n",
      "    rcParams['figure.figsize'] = (width,height)"
     ],
     "language": "python",
     "metadata": {},
     "outputs": []
    },
    {
     "cell_type": "markdown",
     "metadata": {},
     "source": [
      "## Example predictions"
     ]
    },
    {
     "cell_type": "markdown",
     "metadata": {},
     "source": [
      "Predict classes for lena and cat image (whichever one is run most recently will be used in the below sections)"
     ]
    },
    {
     "cell_type": "code",
     "collapsed": false,
     "input": [
      "def predict(impath):\n",
      "    scores = net.predict(impath)\n",
      "    fig = figure()\n",
      "    plot(scores)\n",
      "    ax2 = fig.add_axes([0.15, 0.70, 0.15, 0.15])\n",
      "    ax2.imshow(imread(impath))\n",
      "\n",
      "predict(caffe_root + 'examples/images/lena.png')"
     ],
     "language": "python",
     "metadata": {},
     "outputs": []
    },
    {
     "cell_type": "code",
     "collapsed": false,
     "input": [
      "predict(caffe_root + 'examples/images/cat.jpg')"
     ],
     "language": "python",
     "metadata": {},
     "outputs": []
    },
    {
     "cell_type": "markdown",
     "metadata": {},
     "source": [
      "## Look at activations and parameters"
     ]
    },
    {
     "cell_type": "code",
     "collapsed": false,
     "input": [
      "[(k, v.data.shape) for k, v in net.caffenet.blobs.items()]"
     ],
     "language": "python",
     "metadata": {},
     "outputs": []
    },
    {
     "cell_type": "code",
     "collapsed": false,
     "input": [
      "[(k, v[0].data.shape) for k, v in net.caffenet.params.items()]"
     ],
     "language": "python",
     "metadata": {},
     "outputs": []
    },
    {
     "cell_type": "code",
     "collapsed": false,
     "input": [
      "def shownet(net):\n",
      "    for k, v in net.caffenet.blobs.items():\n",
      "        if k in net.caffenet.params:\n",
      "            params = net.caffenet.params[k]\n",
      "            for pp, blob in enumerate(params):\n",
      "                if pp == 0:\n",
      "                    print '  ', 'P: %-5s'%k,\n",
      "                else:\n",
      "                    print ' ' * 11,\n",
      "                print '%-38s' % repr(blob.data.shape), '(%g, %g)' % (blob.data.min(), blob.data.max()) \n",
      "        print '%-5s'%k, '%-40s' % repr(v.data.shape), '(%g, %g)' % (v.data.min(), v.data.max()) \n",
      "\n",
      "shownet(net)"
     ],
     "language": "python",
     "metadata": {},
     "outputs": []
    },
    {
     "cell_type": "markdown",
     "metadata": {},
     "source": [
      "Look a little closer at the data layer"
     ]
    },
    {
     "cell_type": "code",
     "collapsed": false,
     "input": [
      "dat = net.caffenet.blobs.items()[0][1]\n",
      "print 'dat is', dat\n",
      "dat = net.caffenet.blobs['data']\n",
      "print 'dat is', dat\n",
      "print dat.data.shape\n",
      "print (dat.num, dat.channels, dat.width, dat.height)   # not sure about width/height order"
     ],
     "language": "python",
     "metadata": {},
     "outputs": []
    },
    {
     "cell_type": "markdown",
     "metadata": {},
     "source": [
      "Define some helper functions"
     ]
    },
    {
     "cell_type": "code",
     "collapsed": false,
     "input": [
      "# our network takes BGR images, so we need to switch color channels\n",
      "def showimage(im):\n",
      "    if im.ndim == 3:\n",
      "        im = im[:, :, ::-1]\n",
      "    plt.imshow(im)\n",
      "    \n",
      "# take an array of shape (n, height, width) or (n, height, width, channels)\n",
      "#  and visualize each (height, width) thing in a grid of size approx. sqrt(n) by sqrt(n)\n",
      "def vis_square(data, padsize=1, padval=0):\n",
      "    data = data.copy()\n",
      "    data -= data.min()\n",
      "    data /= data.max()\n",
      "    \n",
      "    # force the number of filters to be square\n",
      "    n = int(np.ceil(np.sqrt(data.shape[0])))\n",
      "    padding = ((0, n ** 2 - data.shape[0]), (0, padsize), (0, padsize)) + ((0, 0),) * (data.ndim - 3)\n",
      "    data = np.pad(data, padding, mode='constant', constant_values=(padval, padval))\n",
      "    \n",
      "    # tile the filters into an image\n",
      "    data = data.reshape((n, n) + data.shape[1:]).transpose((0, 2, 1, 3) + tuple(range(4, data.ndim + 1)))\n",
      "    data = data.reshape((n * data.shape[1], n * data.shape[3]) + data.shape[4:])\n",
      "    \n",
      "    showimage(data)"
     ],
     "language": "python",
     "metadata": {},
     "outputs": []
    },
    {
     "cell_type": "markdown",
     "metadata": {},
     "source": [
      "## Show: `data`"
     ]
    },
    {
     "cell_type": "code",
     "collapsed": false,
     "input": [
      "print 'dat.data shape', dat.data.shape\n",
      "image = dat.data[4,:].copy().transpose((1,2,0))\n",
      "image -= image.min()\n",
      "image /= image.max()\n",
      "showimage(image)\n",
      "#plt.imshow"
     ],
     "language": "python",
     "metadata": {},
     "outputs": []
    },
    {
     "cell_type": "markdown",
     "metadata": {},
     "source": [
      "## Show: params `conv1`"
     ]
    },
    {
     "cell_type": "markdown",
     "metadata": {},
     "source": [
      "The first layer filters from `conv1`"
     ]
    },
    {
     "cell_type": "code",
     "collapsed": false,
     "input": [
      "# the parameters are a list of [weights, biases]\n",
      "\n",
      "print 'weight size:', net.caffenet.params['conv1'][0].data.shape\n",
      "print 'bias size:  ', net.caffenet.params['conv1'][1].data.shape\n",
      "\n",
      "filters = net.caffenet.params['conv1'][0].data\n",
      "bias = net.caffenet.params['conv1'][1].data\n",
      "\n",
      "figsize(18,9)\n",
      "subplot(1,2,1); vis_square(filters.transpose(0, 2, 3, 1), 1, .2)\n",
      "subplot(1,2,2); plot(bias.squeeze())"
     ],
     "language": "python",
     "metadata": {},
     "outputs": []
    },
    {
     "cell_type": "code",
     "collapsed": false,
     "input": [
      "figsize(12,7)\n",
      "_=hist(filters.flatten(), 40)"
     ],
     "language": "python",
     "metadata": {},
     "outputs": []
    },
    {
     "cell_type": "markdown",
     "metadata": {},
     "source": [
      "## Show: activations `conv1`"
     ]
    },
    {
     "cell_type": "markdown",
     "metadata": {},
     "source": [
      "Responses of conv1 layer"
     ]
    },
    {
     "cell_type": "code",
     "collapsed": false,
     "input": [
      "figsize(15,15)\n",
      "act_conv1 = net.caffenet.blobs['conv1'].data\n",
      "print 'act_conv1.shape =', act_conv1.shape\n",
      "vis_square(act_conv1[4,:], 1, 1)"
     ],
     "language": "python",
     "metadata": {},
     "outputs": []
    },
    {
     "cell_type": "markdown",
     "metadata": {},
     "source": [
      "Overall histogram"
     ]
    },
    {
     "cell_type": "code",
     "collapsed": false,
     "input": [
      "figsize(15,6)\n",
      "flat = act_conv1[4,:].flatten()\n",
      "hist(flat[where(flat>0)], 50)\n",
      "print 'fraction active:', float((flat>0).sum())/len(flat)"
     ],
     "language": "python",
     "metadata": {},
     "outputs": []
    },
    {
     "cell_type": "markdown",
     "metadata": {},
     "source": [
      "Histograms for a few individual units"
     ]
    },
    {
     "cell_type": "code",
     "collapsed": false,
     "input": [
      "def minimal_hist(dat, bins=10, plotfn=plot):\n",
      "    counts, edges = histogram(dat, bins, normed = False)\n",
      "    space = (edges[1] - edges[0])/2\n",
      "    edges = edges[:-1] + space\n",
      "    edges = hstack((edges[0]-space, edges[0]-space, edges, edges[-1]+space, edges[-1]+space))\n",
      "    counts = hstack((0, counts[0], counts, counts[-1], 0))\n",
      "    plotfn(edges, counts+1e-0)\n",
      "\n",
      "figsize(18,6)\n",
      "#_ = hist(act_conv1[4,0,:,:].flatten(), 30)\n",
      "#_ = hist(act_conv1[4,1,:,:].flatten())\n",
      "#_ = hist(act_conv1[4,2,:,:].flatten())\n",
      "\n",
      "idx = (0, 1, 2, 3, 16, 43, 44, 66, 68)\n",
      "for ii in idx:\n",
      "    minimal_hist(act_conv1[4,ii,:,:], 30, plotfn=plot)\n",
      "_=legend(['%d'%ii for ii in idx])\n",
      "\n",
      "figure()\n",
      "for ii in idx:\n",
      "    minimal_hist(act_conv1[4,ii,:,:], 30, plotfn=semilogy)\n",
      "_=legend(['%d'%ii for ii in idx])\n",
      "\n",
      "figure()\n",
      "for ii in idx:\n",
      "    minimal_hist(act_conv1[4,ii,:,:], 30, plotfn=loglog)\n",
      "_=legend(['%d'%ii for ii in idx])\n"
     ],
     "language": "python",
     "metadata": {},
     "outputs": []
    },
    {
     "cell_type": "markdown",
     "metadata": {},
     "source": [
      "## Show: activations `pool1`"
     ]
    },
    {
     "cell_type": "code",
     "collapsed": false,
     "input": [
      "figsize(10,10)\n",
      "act_pool1 = net.caffenet.blobs['pool1'].data\n",
      "print 'act_pool1.shape =', act_pool1.shape\n",
      "vis_square(act_pool1[4,:], 1, 1)"
     ],
     "language": "python",
     "metadata": {},
     "outputs": []
    },
    {
     "cell_type": "code",
     "collapsed": false,
     "input": [
      "figsize(15, 6)\n",
      "for ii in idx:\n",
      "    minimal_hist(act_pool1[4,ii,:,:], 30, plotfn=semilogy)\n",
      "_=legend(['%d'%ii for ii in idx])"
     ],
     "language": "python",
     "metadata": {},
     "outputs": []
    },
    {
     "cell_type": "markdown",
     "metadata": {},
     "source": [
      "## Show: activations `norm1`"
     ]
    },
    {
     "cell_type": "code",
     "collapsed": false,
     "input": [
      "figsize(10,10)\n",
      "act_norm1 = net.caffenet.blobs['norm1'].data\n",
      "print 'act_norm1.shape =', act_norm1.shape\n",
      "vis_square(act_norm1[4,:], 1, 1)"
     ],
     "language": "python",
     "metadata": {},
     "outputs": []
    },
    {
     "cell_type": "code",
     "collapsed": false,
     "input": [
      "figsize(18,6)\n",
      "for ii in idx:\n",
      "    minimal_hist(act_norm1[4,ii,:,:], 30, plotfn=semilogy)\n",
      "_=legend(['%d'%ii for ii in idx])"
     ],
     "language": "python",
     "metadata": {},
     "outputs": []
    },
    {
     "cell_type": "markdown",
     "metadata": {},
     "source": [
      "## Show: params `conv2`"
     ]
    },
    {
     "cell_type": "code",
     "collapsed": false,
     "input": [
      "# the parameters are a list of [weights, biases]\n",
      "print 'weight size:', net.caffenet.params['conv2'][0].data.shape\n",
      "print 'bias size:  ', net.caffenet.params['conv2'][1].data.shape\n",
      "\n",
      "filters = net.caffenet.params['conv2'][0].data\n",
      "bias = net.caffenet.params['conv2'][1].data\n",
      "\n",
      "#vis_square(filters.transpose(0, 2, 3, 1), 1, .2)\n",
      "figsize(15,15)\n",
      "vis_square(filters[:48].reshape(48**2, 5, 5))\n",
      "\n",
      "figsize(15,6)\n",
      "figure()\n",
      "plot(bias.squeeze())"
     ],
     "language": "python",
     "metadata": {},
     "outputs": []
    },
    {
     "cell_type": "code",
     "collapsed": false,
     "input": [
      "figsize(12,4)\n",
      "hist(filters.flatten(), 50)\n",
      "_=title('filter values')"
     ],
     "language": "python",
     "metadata": {},
     "outputs": []
    },
    {
     "cell_type": "markdown",
     "metadata": {},
     "source": [
      "## Show: activations `conv2`"
     ]
    },
    {
     "cell_type": "code",
     "collapsed": false,
     "input": [
      "figsize(15,15)\n",
      "\n",
      "act_conv2 = net.caffenet.blobs['conv2'].data\n",
      "print 'act_conv2.shape =', act_conv2.shape\n",
      "vis_square(act_conv2[4,:], 1, 1)"
     ],
     "language": "python",
     "metadata": {},
     "outputs": []
    },
    {
     "cell_type": "markdown",
     "metadata": {},
     "source": [
      "Overall histogram"
     ]
    },
    {
     "cell_type": "code",
     "collapsed": false,
     "input": [
      "figsize(15,6)\n",
      "flat = act_conv2[4,:].flatten()\n",
      "hist(flat[where(flat>0)], 50)\n",
      "print 'fraction active:', float((flat>0).sum())/len(flat)"
     ],
     "language": "python",
     "metadata": {},
     "outputs": []
    },
    {
     "cell_type": "markdown",
     "metadata": {},
     "source": [
      "Histograms for a few individual units"
     ]
    },
    {
     "cell_type": "code",
     "collapsed": false,
     "input": [
      "figsize(18,5)\n",
      "\n",
      "idx = (0, 1, 2, 3, 15)\n",
      "for ii in idx:\n",
      "    minimal_hist(act_conv2[4,ii,:,:], 30, plotfn=plot)\n",
      "_=legend(['%d'%ii for ii in idx])\n",
      "\n",
      "figure()\n",
      "for ii in idx:\n",
      "    minimal_hist(act_conv2[4,ii,:,:], 30, plotfn=semilogy)\n",
      "_=legend(['%d'%ii for ii in idx])\n",
      "\n",
      "figure()\n",
      "for ii in idx:\n",
      "    minimal_hist(act_conv2[4,ii,:,:], 30, plotfn=loglog)\n",
      "_=legend(['%d'%ii for ii in idx])"
     ],
     "language": "python",
     "metadata": {},
     "outputs": []
    },
    {
     "cell_type": "markdown",
     "metadata": {},
     "source": [
      "## Show: activations `pool2` and `norm2`"
     ]
    },
    {
     "cell_type": "code",
     "collapsed": false,
     "input": [
      "figsize(18,9)\n",
      "\n",
      "subplot(1,2,1)\n",
      "act_pool2 = net.caffenet.blobs['pool2'].data\n",
      "print 'act_pool2.shape =', act_pool2.shape\n",
      "vis_square(act_pool2[4,:], 1, 1)\n",
      "\n",
      "subplot(1,2,2)\n",
      "act_norm2 = net.caffenet.blobs['norm2'].data\n",
      "print 'act_norm2.shape =', act_norm2.shape\n",
      "vis_square(act_norm2[4,:], 1, 1)"
     ],
     "language": "python",
     "metadata": {},
     "outputs": []
    },
    {
     "cell_type": "code",
     "collapsed": false,
     "input": [
      "figsize(15,6)\n",
      "\n",
      "for ii in idx:\n",
      "    minimal_hist(act_pool2[4,ii,:,:], 30, plotfn=loglog)\n",
      "axis('tight')\n",
      "_=legend(['%d'%ii for ii in idx])\n",
      "\n",
      "figure()\n",
      "for ii in idx:\n",
      "    minimal_hist(act_norm2[4,ii,:,:], 30, plotfn=loglog)\n",
      "axis('tight')\n",
      "_=legend(['%d'%ii for ii in idx])"
     ],
     "language": "python",
     "metadata": {},
     "outputs": []
    },
    {
     "cell_type": "markdown",
     "metadata": {},
     "source": [
      "## Show: activations `conv3`"
     ]
    },
    {
     "cell_type": "code",
     "collapsed": false,
     "input": [
      "figsize(18,10)\n",
      "\n",
      "act_conv3 = net.caffenet.blobs['conv3'].data\n",
      "print 'act_conv3.shape =', act_conv3.shape\n",
      "\n",
      "#subplot(1,2,1)\n",
      "subplot2grid((1,3), (0,0), colspan=2)\n",
      "vis_square(act_conv3[4,:64], 1, 1)\n",
      "_=title('conv3: 64 of 384 filters')\n",
      "\n",
      "#subplot(1,2,2)\n",
      "subplot2grid((2,3), (0,2))\n",
      "flat = act_conv3[4,:].flatten()\n",
      "hist(flat[where(flat>0)], 50)\n",
      "_=title('fraction active: %g' % (float((flat>0).sum())/len(flat)))"
     ],
     "language": "python",
     "metadata": {},
     "outputs": []
    },
    {
     "cell_type": "markdown",
     "metadata": {},
     "source": [
      "## Show: activations `conv4`"
     ]
    },
    {
     "cell_type": "code",
     "collapsed": false,
     "input": [
      "figsize(18,10)\n",
      "\n",
      "act_conv4 = net.caffenet.blobs['conv4'].data\n",
      "print 'act_conv4.shape =', act_conv4.shape\n",
      "\n",
      "subplot2grid((1,3), (0,0), colspan=2)\n",
      "vis_square(act_conv4[4,:64], 1, 1)\n",
      "_=title('conv4: 64 of 384 filters')\n",
      "\n",
      "#subplot(1,2,2)\n",
      "subplot2grid((2,3), (0,2))\n",
      "flat = act_conv4[4,:].flatten()\n",
      "hist(flat[where(flat>0)], 50)\n",
      "_=title('fraction active: %g' % (float((flat>0).sum())/len(flat)))"
     ],
     "language": "python",
     "metadata": {},
     "outputs": []
    },
    {
     "cell_type": "markdown",
     "metadata": {},
     "source": [
      "## Show: activations `conv5`"
     ]
    },
    {
     "cell_type": "code",
     "collapsed": false,
     "input": [
      "figsize(18,10)\n",
      "\n",
      "act_conv5 = net.caffenet.blobs['conv5'].data\n",
      "print 'act_conv5.shape =', act_conv5.shape\n",
      "\n",
      "subplot2grid((1,3), (0,0), colspan=2)\n",
      "vis_square(act_conv5[4,:64], 1, 1)\n",
      "_=title('conv5: 64 of 256 filters')\n",
      "\n",
      "#subplot(1,2,2)\n",
      "subplot2grid((2,3), (0,2))\n",
      "flat = act_conv5[4,:].flatten()\n",
      "hist(flat[where(flat>0)], 50)\n",
      "_=title('fraction active: %g' % (float((flat>0).sum())/len(flat)))"
     ],
     "language": "python",
     "metadata": {},
     "outputs": []
    },
    {
     "cell_type": "markdown",
     "metadata": {},
     "source": [
      "## Show: activations `fc6`"
     ]
    },
    {
     "cell_type": "code",
     "collapsed": false,
     "input": [
      "figsize(18,10)\n",
      "\n",
      "act_fc6 = net.caffenet.blobs['fc6'].data\n",
      "print 'act_fc6.shape =', act_fc6.shape\n",
      "plot(act_fc6[4].flatten(), '.')\n",
      "flat = act_fc6[4,:].flatten()\n",
      "_=title('fraction active: %g' % (float((flat>0).sum())/len(flat)))"
     ],
     "language": "python",
     "metadata": {},
     "outputs": []
    },
    {
     "cell_type": "markdown",
     "metadata": {},
     "source": [
      "## Show: activations `fc7`"
     ]
    },
    {
     "cell_type": "code",
     "collapsed": false,
     "input": [
      "figsize(18,10)\n",
      "\n",
      "act_fc7 = net.caffenet.blobs['fc7'].data\n",
      "print 'act_fc7.shape =', act_fc7.shape\n",
      "plot(act_fc7[4].flatten(), '.')\n",
      "flat = act_fc7[4,:].flatten()\n",
      "_=title('fraction active: %g' % (float((flat>0).sum())/len(flat)))"
     ],
     "language": "python",
     "metadata": {},
     "outputs": []
    },
    {
     "cell_type": "markdown",
     "metadata": {},
     "source": [
      "## Show: activations `fc8`"
     ]
    },
    {
     "cell_type": "code",
     "collapsed": false,
     "input": [
      "figsize(18,6)\n",
      "\n",
      "act_fc8 = net.caffenet.blobs['fc8'].data\n",
      "print 'act_fc8.shape =', act_fc8.shape\n",
      "plot(act_fc8[4].flatten(), '.')\n",
      "flat = act_fc8[4,:].flatten()"
     ],
     "language": "python",
     "metadata": {},
     "outputs": []
    },
    {
     "cell_type": "code",
     "collapsed": false,
     "input": [
      "flat = act_fc8[4,:].flatten()\n",
      "plot(exp(flat) / sum(exp(flat)))\n",
      "_=title('softmax for crop 4')"
     ],
     "language": "python",
     "metadata": {},
     "outputs": []
    },
    {
     "cell_type": "markdown",
     "metadata": {},
     "source": [
      "## Show: activations `prob`"
     ]
    },
    {
     "cell_type": "code",
     "collapsed": false,
     "input": [
      "figsize(18,6)\n",
      "\n",
      "act_prob = net.caffenet.blobs['prob'].data\n",
      "print 'act_prob.shape =', act_prob.shape\n",
      "plot(act_prob[4].flatten())\n",
      "flat = act_prob[4,:].flatten()"
     ],
     "language": "python",
     "metadata": {},
     "outputs": []
    },
    {
     "cell_type": "code",
     "collapsed": false,
     "input": [
      "%connect_info"
     ],
     "language": "python",
     "metadata": {},
     "outputs": []
    }
   ],
   "metadata": {}
  }
 ]
}