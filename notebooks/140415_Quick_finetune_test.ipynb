{
 "metadata": {
  "name": ""
 },
 "nbformat": 3,
 "nbformat_minor": 0,
 "worksheets": [
  {
   "cells": [
    {
     "cell_type": "markdown",
     "metadata": {},
     "source": [
      "# Sandbox for testing finetuning some layers while holding others fixed"
     ]
    },
    {
     "cell_type": "code",
     "collapsed": false,
     "input": [
      "from localdefs import *\n",
      "from pylab import *\n",
      "%matplotlib inline\n",
      "\n",
      "# Add some locations to path\n",
      "caffe_root = '../'\n",
      "import sys\n",
      "sys.path.insert(0, caffe_root + 'python')\n",
      "import caffe\n",
      "from caffe import imagenet"
     ],
     "language": "python",
     "metadata": {},
     "outputs": [],
     "prompt_number": 1
    },
    {
     "cell_type": "code",
     "collapsed": false,
     "input": [
      "model_def_file = '../examples/imagenet/imagenet_deploy.prototxt'\n",
      "model0_0  = '../examples/imagenet/results/140415_203845_dbd45fb_priv_junkfinetune/caffe_imagenet_train_iter_0'\n",
      "model0_10 = '../examples/imagenet/results/140415_203845_dbd45fb_priv_junkfinetune/caffe_imagenet_train_iter_10'\n",
      "model1_0  = '../examples/imagenet/results/140415_204616_dbd45fb_priv_junkfinetune2/caffe_imagenet_train_iter_0'\n",
      "model1_10 = '../examples/imagenet/results/140415_204616_dbd45fb_priv_junkfinetune2/caffe_imagenet_train_iter_10'\n",
      "\n",
      "net0_0 = caffe.Net(model_def_file, model0_0)\n",
      "net0_10 = caffe.Net(model_def_file, model0_10)\n",
      "net1_0 = caffe.Net(model_def_file, model1_0)\n",
      "net1_10 = caffe.Net(model_def_file, model1_10)\n",
      "\n",
      "for net in (net0_0, net0_10, net1_0, net1_10):\n",
      "    net.set_phase_test()\n",
      "    net.set_mode_cpu()"
     ],
     "language": "python",
     "metadata": {},
     "outputs": [],
     "prompt_number": 2
    },
    {
     "cell_type": "markdown",
     "metadata": {},
     "source": [
      "## Result: works as expected\n",
      "\n",
      "We get exactly what we expect:\n",
      "\n",
      "* 0_0 -> 0_10 to show learning in all layers,\n",
      "* 0_10 -> 1_0 to be same for layers conv1-conv4 and different for layers conv5-fc8, and\n",
      "* 1_0 -> 1_10 to show learning only in conv5, fc6, fc7, and fc8, because the lr for the rest was set to 0\n"
     ]
    },
    {
     "cell_type": "code",
     "collapsed": false,
     "input": [
      "print ' layer     net0_0     net0_10    net1_0     net1_10'\n",
      "for layer in ['conv1', 'conv2', 'conv3', 'conv4', 'conv5', 'fc6', 'fc7', 'fc8']:\n",
      "    print '%6s:' % layer,\n",
      "    for net in (net0_0, net0_10, net1_0, net1_10):\n",
      "        print '%10g' % net.params[layer][0].data.sum(),\n",
      "    print"
     ],
     "language": "python",
     "metadata": {},
     "outputs": [
      {
       "output_type": "stream",
       "stream": "stdout",
       "text": [
        " layer     net0_0     net0_10    net1_0     net1_10\n",
        " conv1:   -3.94071   -3.66892   -3.66892   -3.66892\n",
        " conv2:   -2.51477   -4.52839   -4.52839   -4.52839\n",
        " conv3:    2.67243   -0.50833   -0.50833   -0.50833\n",
        " conv4:   -17.6479   -24.1965   -24.1965   -24.1965\n",
        " conv5:    6.84436   -21.3701   -7.76085   -8.07119\n",
        "   fc6: "
       ]
      },
      {
       "output_type": "stream",
       "stream": "stdout",
       "text": [
        "   30.5708   -641.955 "
       ]
      },
      {
       "output_type": "stream",
       "stream": "stdout",
       "text": [
        "  -11.9874   -1.66411\n",
        "   fc7: "
       ]
      },
      {
       "output_type": "stream",
       "stream": "stdout",
       "text": [
        "   5.05554   -1211.78   -4.00109 "
       ]
      },
      {
       "output_type": "stream",
       "stream": "stdout",
       "text": [
        "  -19.4601\n",
        "   fc8:    21.4654    21.4604   -16.4582    36.4674\n"
       ]
      }
     ],
     "prompt_number": 3
    }
   ],
   "metadata": {}
  }
 ]
}