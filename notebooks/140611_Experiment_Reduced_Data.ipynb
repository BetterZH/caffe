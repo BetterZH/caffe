{
 "metadata": {
  "name": ""
 },
 "nbformat": 3,
 "nbformat_minor": 0,
 "worksheets": [
  {
   "cells": [
    {
     "cell_type": "code",
     "collapsed": false,
     "input": [
      "from localdefs import *\n",
      "from pylab import *\n",
      "%matplotlib inline\n",
      "\n",
      "# Add some locations to path\n",
      "caffe_root = '../'\n",
      "import sys\n",
      "sys.path.insert(0, caffe_root + 'python')\n",
      "sys.path.insert(0, caffe_root + 'jason')\n",
      "\n",
      "results_root = caffe_root + 'examples/imagenet/results/'\n",
      "figsize(15,8)"
     ],
     "language": "python",
     "metadata": {},
     "outputs": []
    },
    {
     "cell_type": "code",
     "collapsed": false,
     "input": [
      "from plot_perf import read_info, convert_dict\n",
      "import glob\n",
      "\n",
      "def load_results(filename_pattern):\n",
      "    logfiles = glob.glob(filename_pattern)\n",
      "\n",
      "    #print 'got files:', logfiles\n",
      "\n",
      "    dicts = read_info(logfiles)\n",
      "\n",
      "    arrays = [convert_dict(dd) for dd in dicts]\n",
      "    #loss_train, lr, test_score_0, test_score_1 = dicts\n",
      "\n",
      "    ret = dict()\n",
      "    ret['train_loss'] =   {'idx': arrays[0][0], 'val': arrays[0][1]}  # training loss\n",
      "    ret['lr'] =           {'idx': arrays[1][0], 'val': arrays[1][1]}  # learning rate\n",
      "    ret['test_score_0'] = {'idx': arrays[2][0], 'val': arrays[2][1]}  # top-1 accuracy on valid set\n",
      "    ret['test_score_1'] = {'idx': arrays[3][0], 'val': arrays[3][1]}  # loss on valid set\n",
      "    \n",
      "    # Also make test_score_* available under more friendly names:\n",
      "    ret['valid_loss'] = ret['test_score_1']\n",
      "    ret['valid_top1_acc'] = ret['test_score_0']\n",
      "    \n",
      "    return ret\n",
      "    "
     ],
     "language": "python",
     "metadata": {},
     "outputs": []
    },
    {
     "cell_type": "code",
     "collapsed": false,
     "input": [
      "result_base = load_results(results_root + '14*netbase/*.[eo]*')\n",
      "print 'Iterations base:', result_base['valid_loss']['idx'].max()\n",
      "\n",
      "# per class\n",
      "set_sizes = [1, 2, 5, 10, 25, 50, 100, 250, 500, 750, 1000, 1300]\n",
      "# total dataset size\n",
      "set_sizes_total = [1000, 2000, 5000, 10000, 25000, 50000, 100000, 250000, 500000, 749970, 997939, 1281167]\n",
      "\n",
      "result_reduced = {}\n",
      "for set_size in set_sizes:\n",
      "    if set_size == 1300:\n",
      "        # HACK\n",
      "        result_reduced[set_size] = load_results(results_root + '*reduced-1300-2/*.[eo]*')\n",
      "        #result_reduced[set_size] = load_results(results_root + '14*netbase/*.[eo]*')\n",
      "    else:\n",
      "        result_reduced[set_size] = load_results(results_root + '*reduced-%04d/*.[eo]*' % set_size)\n",
      "    eg = result_reduced[set_size]['valid_loss']['idx']\n",
      "    print 'Iterations result_reduced[%d]:' % set_size, len(eg), eg.max()\n",
      "\n",
      "print 'Available fields are:'\n",
      "print result_reduced[1300].keys()"
     ],
     "language": "python",
     "metadata": {},
     "outputs": []
    },
    {
     "cell_type": "code",
     "collapsed": false,
     "input": [
      "def plot_results(res, ax1='tight', ax2='tight'):\n",
      "    #figsize(16,10)\n",
      "    #subplot(2,1,1)\n",
      "\n",
      "    subplot2grid((2,3), (0,0), colspan=2)\n",
      "    #plot(res['train_loss']['idx'], res['train_loss']['val'], 'b')\n",
      "    #plot(res['valid_loss']['idx'], res['valid_loss']['val'], 'r')\n",
      "    plot(res['train_loss']['idx'], res['train_loss']['val'])\n",
      "    plot(res['valid_loss']['idx'], res['valid_loss']['val'])\n",
      "    ylabel('loss')\n",
      "\n",
      "    subplot2grid((2,3), (0,2), colspan=1)\n",
      "    #plot(res['train_loss']['idx'], res['train_loss']['val'], 'b')\n",
      "    #plot(res['valid_loss']['idx'], res['valid_loss']['val'], 'r')\n",
      "    plot(res['train_loss']['idx'], res['train_loss']['val'])\n",
      "    plot(res['valid_loss']['idx'], res['valid_loss']['val'])\n",
      "    axis(ax1)\n",
      "    \n",
      "    subplot2grid((2,3), (1,0), colspan=2)\n",
      "    #subplot(2,1,2)\n",
      "    plot(res['valid_top1_acc']['idx'], 1-res['valid_top1_acc']['val'], 'b')\n",
      "    ylabel('top-1 err')\n",
      "\n",
      "    subplot2grid((2,3), (1,2), colspan=1)\n",
      "    #subplot(2,1,2)\n",
      "    plot(res['valid_top1_acc']['idx'], 1-res['valid_top1_acc']['val'], 'b')\n",
      "    axis(ax2)\n",
      "\n",
      "def plot_results_simple(res):\n",
      "    plot(res['train_loss']['idx'], res['train_loss']['val'])\n",
      "    plot(res['valid_loss']['idx'], res['valid_loss']['val'])"
     ],
     "language": "python",
     "metadata": {},
     "outputs": []
    },
    {
     "cell_type": "code",
     "collapsed": false,
     "input": [
      "len(set_sizes)"
     ],
     "language": "python",
     "metadata": {},
     "outputs": []
    },
    {
     "cell_type": "code",
     "collapsed": false,
     "input": [
      "figsize(15,25)\n",
      "for ii, set_size in enumerate(reversed(set_sizes)):\n",
      "    subplot(12,1,ii+1)\n",
      "    plot_results_simple(result_reduced[set_size])\n",
      "    ylabel('%d' % set_size)\n",
      "#figure()\n",
      "#plot_results(result_nolearn_1_x[1], ax1=(300000, 450000, 0, 3), ax2=(300000, 450000, .3, .52))"
     ],
     "language": "python",
     "metadata": {},
     "outputs": []
    },
    {
     "cell_type": "markdown",
     "metadata": {},
     "source": [
      "Comparing netbase (with 450k iterations) to 1300 (with 200k iterations)"
     ]
    },
    {
     "cell_type": "code",
     "collapsed": false,
     "input": [
      "figsize(12,8)\n",
      "plot_results(result_reduced[1300])\n",
      "figure()\n",
      "plot_results(result_base)\n"
     ],
     "language": "python",
     "metadata": {},
     "outputs": []
    },
    {
     "cell_type": "code",
     "collapsed": false,
     "input": [
      "def mean_highest(record, number = 10):\n",
      "    vals = record['val']\n",
      "    return sort(vals)[-number:].mean()\n",
      "\n",
      "def mean_lowest(record, number = 10):\n",
      "    vals = record['val']\n",
      "    return sort(vals)[:number].mean()"
     ],
     "language": "python",
     "metadata": {},
     "outputs": []
    },
    {
     "cell_type": "code",
     "collapsed": false,
     "input": [
      "train_loss = [mean_lowest(result_reduced[ss]['train_loss']) for ss in set_sizes]\n",
      "valid_loss = [mean_lowest(result_reduced[ss]['valid_loss']) for ss in set_sizes]\n",
      "valid_acc  = [1-mean_highest(result_reduced[ss]['valid_top1_acc']) for ss in set_sizes]\n",
      "\n",
      "pln = 5 # plot last n\n",
      "\n",
      "plotfn = plot\n",
      "#plotfn = semilogx\n",
      "figsize(15,8)\n",
      "subplot(2,1,1)\n",
      "plotfn(set_sizes_total[-pln:], train_loss[-pln:], 'bo-')\n",
      "plotfn(set_sizes_total[-pln:], valid_loss[-pln:], 'ro-')\n",
      "title('loss')\n",
      "axis('tight')\n",
      "subplot(2,1,2)\n",
      "plotfn(set_sizes_total[-pln:], valid_acc[-pln:], 'ro-')\n",
      "title('top1 err')\n",
      "xlabel('dataset size')\n",
      "axis('tight')\n",
      "\n",
      "for ii in range(12):\n",
      "    print 'valid error or acc for %4d (total %7d) is %f' % (set_sizes[ii], set_sizes_total[ii], valid_acc[ii])"
     ],
     "language": "python",
     "metadata": {},
     "outputs": []
    },
    {
     "cell_type": "code",
     "collapsed": false,
     "input": [
      "train_loss_lb = []\n",
      "train_loss_lb.append(mean_lowest(result_base['train_loss']))\n",
      "train_loss_lb.extend([mean_lowest(result_nolearn_1_x_lb[ll]['train_loss']) for ll in range(1,8)])\n",
      "\n",
      "valid_loss_lb = []\n",
      "valid_loss_lb.append(mean_lowest(result_base['valid_loss']))\n",
      "valid_loss_lb.extend([mean_lowest(result_nolearn_1_x_lb[ll]['valid_loss']) for ll in range(1,8)])\n",
      "\n",
      "valid_acc_lb = []\n",
      "valid_acc_lb.append(1-mean_highest(result_base['valid_top1_acc']))\n",
      "valid_acc_lb.extend([1-mean_highest(result_nolearn_1_x_lb[ll]['valid_top1_acc']) for ll in range(1,8)])\n",
      "\n",
      "subplot(2,1,1)\n",
      "plot(arange(8), train_loss_lb, 'bo-')\n",
      "plot(arange(8), valid_loss_lb, 'ro-')\n",
      "title('loss')\n",
      "subplot(2,1,2)\n",
      "plot(arange(8), valid_acc_lb, 'ro-')\n",
      "title('top1 err')"
     ],
     "language": "python",
     "metadata": {},
     "outputs": []
    },
    {
     "cell_type": "code",
     "collapsed": false,
     "input": [
      "# Or, all together:\n",
      "\n",
      "subplot(2,1,1)\n",
      "axhline(train_loss[0], color = 'b')\n",
      "axhline(valid_loss[0], color = 'r')\n",
      "plot(arange(8), train_loss, 'bo-')\n",
      "plot(arange(8), valid_loss, 'ro-')\n",
      "plot(arange(8), train_loss_lb, 'bo:')\n",
      "plot(arange(8), valid_loss_lb, 'ro:')\n",
      "plot(b1_idx*.999, 0*b1_idx+1, 'kx')\n",
      "title('loss')\n",
      "subplot(2,1,2)\n",
      "axhline(valid_acc[0], color = 'r')\n",
      "plot(arange(8), valid_acc, 'ro-')\n",
      "plot(arange(8), valid_acc_lb, 'ro:')\n",
      "title('top1 err')"
     ],
     "language": "python",
     "metadata": {},
     "outputs": []
    },
    {
     "cell_type": "code",
     "collapsed": false,
     "input": [
      "# Dropping learning in just a single layer\n",
      "\n",
      "train_loss_1 = []\n",
      "#train_loss_1.append(mean_lowest(result_base['train_loss']))\n",
      "train_loss_1.extend([mean_lowest(result_nolearn_x[ll]['train_loss']) for ll in range(1,9)])\n",
      "\n",
      "valid_loss_1 = []\n",
      "#valid_loss_1.append(mean_lowest(result_base['valid_loss']))\n",
      "valid_loss_1.extend([mean_lowest(result_nolearn_x[ll]['valid_loss']) for ll in range(1,9)])\n",
      "\n",
      "valid_acc_1 = []\n",
      "#valid_acc_1.append(1-mean_highest(result_base['valid_top1_acc']))\n",
      "valid_acc_1.extend([1-mean_highest(result_nolearn_x[ll]['valid_top1_acc']) for ll in range(1,9)])\n",
      "\n",
      "subplot(2,1,1)\n",
      "plot(arange(1,9), train_loss_1, 'bo-')\n",
      "plot(arange(1,9), valid_loss_1, 'o-', color='r')\n",
      "axhline(train_loss[0], color = 'b')\n",
      "axhline(valid_loss[0], color = 'r')\n",
      "title('loss')\n",
      "\n",
      "subplot(2,1,2)\n",
      "plot(arange(1,9), valid_acc_1, 'o-', color='r')\n",
      "axhline(valid_acc[0], color = 'r')\n",
      "title('top1 err')"
     ],
     "language": "python",
     "metadata": {},
     "outputs": []
    },
    {
     "cell_type": "code",
     "collapsed": false,
     "input": [
      "# Weird\n",
      "\n",
      "plot_results(result_nolearn_x[8], ax1=(300000, 450000, 0, 3), ax2=(300000, 450000, .3, .52))"
     ],
     "language": "python",
     "metadata": {},
     "outputs": []
    },
    {
     "cell_type": "code",
     "collapsed": false,
     "input": [
      "# Or, ALL all together:\n",
      "\n",
      "subplot(2,1,1)\n",
      "axhline(train_loss[0], color = 'b')\n",
      "axhline(valid_loss[0], color = 'r')\n",
      "plot(arange(8), train_loss, 'bo-')\n",
      "plot(arange(8), valid_loss, 'ro-')\n",
      "plot(arange(8), train_loss_lb, 'bo:')\n",
      "plot(arange(8), valid_loss_lb, 'ro:')\n",
      "plot(b1_idx*.999, 0*b1_idx+1, 'kx')\n",
      "plot(arange(1,9), train_loss_1, 'o-', color='#ccccff')\n",
      "plot(arange(1,9), valid_loss_1, 'o-', color='#ffcccc')\n",
      "title('loss')\n",
      "\n",
      "subplot(2,1,2)\n",
      "axhline(valid_acc[0], color = 'r')\n",
      "plot(arange(8), valid_acc, 'ro-')\n",
      "plot(arange(8), valid_acc_lb, 'ro:')\n",
      "plot(arange(1,9), valid_acc_1, 'o-', color='#ffcccc')\n",
      "title('top1 err')"
     ],
     "language": "python",
     "metadata": {},
     "outputs": []
    },
    {
     "cell_type": "markdown",
     "metadata": {},
     "source": [
      "# Scratch"
     ]
    },
    {
     "cell_type": "code",
     "collapsed": false,
     "input": [
      "%connect_info"
     ],
     "language": "python",
     "metadata": {},
     "outputs": []
    },
    {
     "cell_type": "code",
     "collapsed": false,
     "input": [],
     "language": "python",
     "metadata": {},
     "outputs": []
    }
   ],
   "metadata": {}
  }
 ]
}