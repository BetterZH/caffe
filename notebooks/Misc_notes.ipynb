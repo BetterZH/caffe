{
 "metadata": {
  "name": ""
 },
 "nbformat": 3,
 "nbformat_minor": 0,
 "worksheets": [
  {
   "cells": [
    {
     "cell_type": "markdown",
     "metadata": {},
     "source": [
      "http://www.codetable.net/unicodecharacters?page=33\n",
      "\n",
      "http://www.onemathematicalcat.org/MathJaxDocumentation/TeXSyntax.htm\n",
      "\n",
      "### \u25cf $\\checkmark$ $\\bigcirc$ $\\myHearts$\n",
      "\n",
      "$\n",
      "\\newcommand\\myHearts{\\color{purple}{\\heartsuit}\\kern-2.5pt\\color{green}{\\heartsuit} {\\Large \\bullet}\\bullet}\n",
      "\\myHearts\\myHearts\n",
      "$\n",
      "\n",
      "\n",
      "$\n",
      "\\myHearts\\myHearts\n",
      "$\n"
     ]
    },
    {
     "cell_type": "markdown",
     "metadata": {},
     "source": [
      "#### $\\bigcirc$ $\\CIRCLE$ $\\circ$ $\\downarrow$ \u25b7 \u25cf \u25cb\u25cf\u25d2 \u25ef\u25d1 \u25cb\u25d1\u25cf\u2b24\u2b24 \u25cf\ud83c\udf11\u26ab\u25cf Just train with conv layers ``lr = 0``\n",
      "\n",
      "Test of new command:\n",
      "\n",
      "$\n",
      "\\newcommand\\myHearts\n",
      "  {\\color{purple}{\\heartsuit}\\kern-2.5pt\\color{green}{\\heartsuit}}\n",
      "\\myHearts\\myHearts\n",
      "$\n",
      "\n",
      "\n",
      "$\n",
      "\\myHearts\\myHearts\n",
      "$\n",
      "This si some telksajdf lkajsdf lkasjdf\n",
      "asdlfjlasjdf\n",
      "alsdkfjlkasjdflkj\n",
      "sadlfkjlsadkjf\n",
      "\n",
      "\n",
      "* Init with noise of the same size as learned filters and then train with conv layers ``lr = 0``"
     ]
    },
    {
     "cell_type": "code",
     "collapsed": false,
     "input": [
      "\n"
     ],
     "language": "python",
     "metadata": {},
     "outputs": []
    }
   ],
   "metadata": {}
  }
 ]
}