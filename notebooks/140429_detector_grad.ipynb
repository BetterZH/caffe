{
 "metadata": {
  "name": ""
 },
 "nbformat": 3,
 "nbformat_minor": 0,
 "worksheets": [
  {
   "cells": [
    {
     "cell_type": "markdown",
     "metadata": {},
     "source": [
      "## Setup"
     ]
    },
    {
     "cell_type": "code",
     "collapsed": false,
     "input": [
      "import pylab\n",
      "from pylab import *\n",
      "from collections import OrderedDict\n",
      "%matplotlib inline\n",
      "plt.rcParams['image.interpolation'] = 'nearest'\n",
      "plt.rcParams['image.cmap'] = 'gray'\n",
      "\n",
      "# Make sure that caffe is on the python path:\n",
      "caffe_root = '../'  # this file is expected to be in {caffe_root}/examples\n",
      "import sys\n",
      "sys.path.insert(0, caffe_root + 'python')\n",
      "import caffe\n",
      "from caffe import imagenet"
     ],
     "language": "python",
     "metadata": {},
     "outputs": []
    },
    {
     "cell_type": "code",
     "collapsed": false,
     "input": [
      "# Some function definitions\n",
      "def figsize(width,height):\n",
      "    rcParams['figure.figsize'] = (width,height)\n",
      "    \n",
      "def shownet(net, layers=False):\n",
      "    for k, v in net.blobs.items():\n",
      "        if k in net.params:\n",
      "            params = net.params[k]\n",
      "            for pp, blob in enumerate(params):\n",
      "                if pp == 0:\n",
      "                    print '  ', 'P: %-5s'%k,\n",
      "                else:\n",
      "                    print ' ' * 11,\n",
      "                print '%-38s' % repr(blob.data.shape), '(%g, %g)' % (blob.data.min(), blob.data.max())\n",
      "        print '%-5s'%k, '%-40s' % repr(v.data.shape), '(%g, %g)' % (v.data.min(), v.data.max())\n",
      "\n",
      "    if layers:\n",
      "        print\n",
      "        print 'Layers:'\n",
      "        print net.complete_layers\n",
      "\n",
      "def norm01(arr):\n",
      "    arr = arr.copy()\n",
      "    arr -= arr.min()\n",
      "    arr /= arr.max()\n",
      "    return arr\n",
      "\n",
      "def showimage(im):\n",
      "    if im.ndim == 3:\n",
      "        # switch order from c,0,1 -> 0,1,c\n",
      "        im = im.transpose((1,2,0))\n",
      "        # The network takes BGR images, so we need to switch color channels\n",
      "        im = im[:, :, ::-1]\n",
      "    plt.imshow(im)\n",
      "\n",
      "def showimagesc(im):\n",
      "    showimage(norm01(im))\n"
     ],
     "language": "python",
     "metadata": {},
     "outputs": []
    },
    {
     "cell_type": "markdown",
     "metadata": {},
     "source": [
      "Pick which model to load, which image, etc."
     ]
    },
    {
     "cell_type": "code",
     "collapsed": false,
     "input": [
      "results_dir = '../examples/imagenet/results/140311_234854_afadfd3_priv_netbase/'\n",
      "model_def_file = '../examples/imagenet/imagenet_deploy.prototxt'\n",
      "pretrained_model = results_dir + 'caffe_imagenet_train_iter_450000'\n",
      "with open('../data/ilsvrc12/synset_words.txt') as ff:\n",
      "    labels = [line.strip() for line in ff.readlines()]\n",
      "#image_filename = caffe_root + 'examples/images/cat.jpg'\n",
      "image_filename = caffe_root + 'examples/images/lion.jpg'"
     ],
     "language": "python",
     "metadata": {},
     "outputs": []
    },
    {
     "cell_type": "markdown",
     "metadata": {},
     "source": [
      "## Gradient fun"
     ]
    },
    {
     "cell_type": "code",
     "collapsed": false,
     "input": [
      "data = imagenet.prepare_image(image_filename)\n",
      "image = data[4]\n",
      "figsize(12,4)\n",
      "showimagesc(image)"
     ],
     "language": "python",
     "metadata": {},
     "outputs": []
    },
    {
     "cell_type": "code",
     "collapsed": false,
     "input": [
      "net = caffe.Net(model_def_file, pretrained_model)\n",
      "net.set_phase_test()\n",
      "\n",
      "softmax = empty((10, 1000, 1, 1), dtype=np.float32)\n",
      "net.Forward([data], [softmax])\n",
      "\n",
      "figsize(12,4)\n",
      "plot(softmax[4].flatten())\n",
      "iimax = softmax[4].argmax()\n",
      "plot(iimax, softmax[4].flatten()[iimax], 'ro')\n",
      "_=title('Max at idx %d (%s)' % (iimax, labels[iimax]))"
     ],
     "language": "python",
     "metadata": {},
     "outputs": []
    },
    {
     "cell_type": "code",
     "collapsed": false,
     "input": [
      "data_diff = 0*data\n",
      "softmax_diff = 0*softmax\n",
      "softmax_diff[4,iimax,0,0] = 1.0\n",
      "#print repr(top_diff_blob)\n",
      "net.Backward([softmax_diff], [data_diff])"
     ],
     "language": "python",
     "metadata": {},
     "outputs": []
    },
    {
     "cell_type": "code",
     "collapsed": false,
     "input": [
      "diffimage = data_diff[4]\n",
      "print 'diffimage ranges from', diffimage.min(), 'to', diffimage.max()\n",
      "showimagesc(diffimage)"
     ],
     "language": "python",
     "metadata": {},
     "outputs": []
    },
    {
     "cell_type": "code",
     "collapsed": false,
     "input": [
      "morecat = norm01(image) + .5 * norm01(diffimage)\n",
      "subplot(1,2,1)\n",
      "showimagesc(image)\n",
      "subplot(1,2,2)\n",
      "showimagesc(morecat)"
     ],
     "language": "python",
     "metadata": {},
     "outputs": []
    },
    {
     "cell_type": "code",
     "collapsed": false,
     "input": [
      "gammas = (2.0, 1.0, .5, .1, .01)\n",
      "gammas = (4.0, 2.0, .7, .1, .01)\n",
      "\n",
      "figsize(20,8)\n",
      "for ii,gamma in enumerate(gammas):\n",
      "    subplot(1,len(gammas),ii+1)\n",
      "    im = sqrt(diffimage**2)**gamma\n",
      "    showimagesc(im)"
     ],
     "language": "python",
     "metadata": {},
     "outputs": []
    },
    {
     "cell_type": "code",
     "collapsed": false,
     "input": [
      "for ii,gamma in enumerate(gammas):\n",
      "    subplot(1,len(gammas),ii+1)\n",
      "    im = sqrt(diffimage**2).mean(0)**gamma   # mean along dim 0 = color for c,0,1\n",
      "    showimagesc(im)"
     ],
     "language": "python",
     "metadata": {},
     "outputs": []
    },
    {
     "cell_type": "code",
     "collapsed": false,
     "input": [
      "for ii,gamma in enumerate(gammas):\n",
      "    subplot(1,len(gammas),ii+1)\n",
      "\n",
      "    mask = sqrt(diffimage**2).mean(0)**gamma\n",
      "\n",
      "    im = image * mask\n",
      "    showimagesc(im)"
     ],
     "language": "python",
     "metadata": {},
     "outputs": []
    },
    {
     "cell_type": "code",
     "collapsed": false,
     "input": [
      "imagegray = image.mean(0)\n",
      "for ii,gamma in enumerate(gammas):\n",
      "    subplot(1,len(gammas),ii+1)\n",
      "\n",
      "    mask = sqrt(diffimage**2).mean(0)**gamma\n",
      "    mask -= mask.min()\n",
      "    mask /= mask.max()\n",
      "\n",
      "    im = imagegray + .5 * image * mask\n",
      "    showimagesc(im)"
     ],
     "language": "python",
     "metadata": {},
     "outputs": []
    },
    {
     "cell_type": "code",
     "collapsed": false,
     "input": [
      "from scipy import ndimage\n",
      "\n",
      "for blur in (0, 1, 6, 10, 40):\n",
      "    figure()\n",
      "    for ii,gamma in enumerate(gammas):\n",
      "        subplot(1,len(gammas),ii+1)\n",
      "\n",
      "        mask = sqrt(diffimage**2).mean(0)**gamma\n",
      "        mask = ndimage.gaussian_filter(mask, sigma=(blur,blur))\n",
      "\n",
      "        showimagesc(mask)\n",
      "    title('blur mask by %g pixels' % blur)"
     ],
     "language": "python",
     "metadata": {},
     "outputs": []
    },
    {
     "cell_type": "code",
     "collapsed": false,
     "input": [
      "for blur in (0, 1, 6, 10, 40):\n",
      "    figure()\n",
      "    for ii,gamma in enumerate(gammas):\n",
      "        subplot(1,len(gammas),ii+1)\n",
      "\n",
      "        mask = sqrt(diffimage**2).mean(0)**gamma\n",
      "        mask = ndimage.gaussian_filter(mask, sigma=(blur,blur))\n",
      "\n",
      "        showimagesc(image * mask)\n",
      "    title('blur mask by %g pixels' % blur)"
     ],
     "language": "python",
     "metadata": {},
     "outputs": []
    },
    {
     "cell_type": "markdown",
     "metadata": {},
     "source": [
      "# Breaking the Cat/Lion Detector"
     ]
    },
    {
     "cell_type": "code",
     "collapsed": false,
     "input": [
      "net.Forward([data], [softmax])\n",
      "\n",
      "figsize(12,4)\n",
      "plot(softmax[4].flatten())\n",
      "iimax = softmax[4].argmax()\n",
      "plot(iimax, softmax[4].flatten()[iimax], 'ro')\n",
      "ax=axis(); axis((260,300) + ax[2:4])\n",
      "_=title('Max at idx %d' % iimax)"
     ],
     "language": "python",
     "metadata": {},
     "outputs": []
    },
    {
     "cell_type": "markdown",
     "metadata": {},
     "source": [
      "Take a single step to decrease the activation"
     ]
    },
    {
     "cell_type": "code",
     "collapsed": false,
     "input": [
      "data_diff = 0 * data\n",
      "# we'd like the derivative of a single unit with respect to the input\n",
      "softmax_diff = 0 * softmax\n",
      "softmax_diff[4,iimax,0,0] = 1.0\n",
      "\n",
      "net.Backward([softmax_diff], [data_diff])\n",
      "\n",
      "softmax2 = 0 * softmax\n",
      "#data2 = data_blob - 100000.5*data_grad_blob\n",
      "data2 = data - 2000*data_diff   #100000 breaks it\n",
      "print 'range data ', data[4].min(), data[4].max()\n",
      "print 'range data2', data2[4].min(), data2[4].max()\n",
      "\n",
      "net.Forward([data2], [softmax2])\n",
      "\n",
      "print 'old activation =', softmax[4].flatten()[iimax]\n",
      "print 'new activation =', softmax2[4].flatten()[iimax]\n",
      "\n",
      "plot(softmax[4].flatten(), color=(.7, .7, 1), linewidth=1)\n",
      "plot(softmax2[4].flatten())\n",
      "\n",
      "plot(iimax, softmax[4].flatten()[iimax], 'o', color=(1, .7, .7))\n",
      "plot(iimax, softmax2[4].flatten()[iimax], 'ro')\n",
      "ax=axis()\n",
      "_=axis((260,300) + ax[2:4])"
     ],
     "language": "python",
     "metadata": {},
     "outputs": []
    },
    {
     "cell_type": "markdown",
     "metadata": {},
     "source": [
      "Or try taking many steps:"
     ]
    },
    {
     "cell_type": "code",
     "collapsed": false,
     "input": [
      "data_diff = 0 * data\n",
      "# we'd like the derivative of a single unit with respect to the input\n",
      "softmax_diff = 0 * softmax\n",
      "softmax_diff[4,iimax,0,0] = 1.0\n",
      "\n",
      "data_mod = data.copy()\n",
      "softmaxes = []\n",
      "\n",
      "figsize(20,8)\n",
      "for ii in range(25):\n",
      "    net.Forward([data_mod], [softmax])\n",
      "    softmaxes.append(softmax.copy())\n",
      "    \n",
      "    print '%d: %-10g (data range %10g to %10g)' % (ii, softmax[4].flatten()[iimax], data_mod.min(), data_mod.max())\n",
      "\n",
      "    net.Backward([softmax_diff], [data_diff])\n",
      "    \n",
      "    #data2 = data_blob - 100000.5*data_grad_blob\n",
      "    data_mod = data_mod - 2000*data_diff   #100000 breaks it\n",
      "    #print 'range data ', data[4].min(), data[4].max()\n",
      "    #print 'range data2', data2[4].min(), data2[4].max()\n",
      "    \n",
      "    if ii % 5 == 0:\n",
      "        subplot(1,6,ii/5+1)\n",
      "        showimagesc(data_mod[4])\n",
      "\n",
      "subplot(1,6,6)\n",
      "showimagesc(data_mod[4])"
     ],
     "language": "python",
     "metadata": {},
     "outputs": []
    },
    {
     "cell_type": "markdown",
     "metadata": {},
     "source": [
      "Plot the progression from old class to new"
     ]
    },
    {
     "cell_type": "code",
     "collapsed": false,
     "input": [
      "for ii, smax in enumerate(softmaxes):\n",
      "    frac = float(ii) / (len(softmaxes)-1)\n",
      "    plot(smax[4].flatten(), color=(frac, 0, 1-frac))\n",
      "    val = smax[4].flatten()[iimax]\n",
      "    plot(iimax, val, 'o', color=(frac, 0, 1-frac))\n",
      "    if ii == 0 or ii == len(softmaxes)-1:\n",
      "        text(iimax, val, '   %d, %g (%s)' % (iimax, val, labels[iimax]), va='top')\n",
      "    if ii == len(softmaxes)-1:\n",
      "        newiimax = smax[4].flatten().argmax()\n",
      "        newval = smax[4].flatten()[newiimax]\n",
      "        text(newiimax, newval, '   %d, %g (%s)' % (newiimax, newval, labels[newiimax]), va='top')\n",
      "print 'Final Values:'\n",
      "print '  Old class:  %d, %-10g (%s)' % (iimax, val, labels[iimax])\n",
      "print '  New class:  %d, %-10g (%s)' % (newiimax, newval, labels[newiimax])\n",
      "\n",
      "    #if ii == len(softmaxes):\n",
      "    #    text(iimax, smax[4].flatten()[iimax], '  max', color=(frac, 0, 1-frac))\n",
      "\n",
      "#newiimax = smax[4].flatten().argmax()\n",
      "title('Old max: ')\n",
      "if False:\n",
      "    plot(softmax[4].flatten(), color=(.7, .7, 1), linewidth=1)\n",
      "    plot(softmax2[4].flatten())\n",
      "    \n",
      "    plot(iimax, softmax[4].flatten()[iimax], 'o', color=(1, .7, .7))\n",
      "    plot(iimax, softmax2[4].flatten()[iimax], 'ro')\n",
      "    ax=axis()\n",
      "    _=axis((260,300) + ax[2:4])"
     ],
     "language": "python",
     "metadata": {},
     "outputs": []
    },
    {
     "cell_type": "markdown",
     "metadata": {},
     "source": [
      "Now let's try taking steps to a specific new class"
     ]
    },
    {
     "cell_type": "code",
     "collapsed": false,
     "input": [
      "iigoal = 289     # n02128757 snow leopard, ounce, Panthera uncia\n",
      "iigoal = 286     # n02125311 cougar, puma, catamount, mountain lion, painter, panther, Felis concolor\n",
      "\n",
      "data_diff = 0 * data\n",
      "# we'd like the derivative of a single unit with respect to the input\n",
      "softmax_diff = 0 * softmax\n",
      "softmax_diff[4,iigoal,0,0] = 1.0\n",
      "\n",
      "data_mod = data.copy()\n",
      "softmaxes = []\n",
      "\n",
      "figsize(20,8)\n",
      "print '   old        new'\n",
      "for ii in range(100):\n",
      "    net.Forward([data_mod], [softmax])\n",
      "    softmaxes.append(softmax.copy())\n",
      "    \n",
      "    print ('%d: %-10g %-12g (norm(diff) %12g, data range %10g to %10g)'\n",
      "           '' % (ii, softmax[4].flatten()[iimax], softmax[4].flatten()[iigoal], \n",
      "                 norm(data_diff), data_mod.min(), data_mod.max()))\n",
      "\n",
      "    net.Backward([softmax_diff], [data_diff])\n",
      "    \n",
      "    #data2 = data_blob - 100000.5*data_grad_blob\n",
      "    #print '  data_diff range', data_diff.min(), data_diff.max()\n",
      "    data_mod = data_mod + 50000*data_diff   #100000 breaks it\n",
      "    #print 'range data ', data[4].min(), data[4].max()\n",
      "    #print 'range data2', data2[4].min(), data2[4].max()\n",
      "    \n",
      "    if ii % 20 == 0:\n",
      "        subplot(1,6,ii/20+1)\n",
      "        showimagesc(data_mod[4])\n",
      "\n",
      "subplot(1,6,6)\n",
      "showimagesc(data_mod[4])"
     ],
     "language": "python",
     "metadata": {},
     "outputs": []
    },
    {
     "cell_type": "markdown",
     "metadata": {},
     "source": [
      "Next steps here:\n",
      "\n",
      "* Think about how better to step toward specific class (first minimize main class?)\n"
     ]
    }
   ],
   "metadata": {}
  }
 ]
}