{
 "metadata": {
  "name": ""
 },
 "nbformat": 3,
 "nbformat_minor": 0,
 "worksheets": [
  {
   "cells": [
    {
     "cell_type": "code",
     "collapsed": false,
     "input": [
      "import pylab\n",
      "from pylab import *\n",
      "from collections import OrderedDict\n",
      "%matplotlib inline\n",
      "plt.rcParams['image.interpolation'] = 'nearest'\n",
      "plt.rcParams['image.cmap'] = 'gray'\n",
      "\n",
      "# Make sure that caffe is on the python path:\n",
      "caffe_root = '../'  # this file is expected to be in {caffe_root}/examples\n",
      "import sys\n",
      "sys.path.insert(0, caffe_root + 'python')\n",
      "import caffe\n",
      "from caffe import imagenet\n",
      "\n",
      "\n",
      "# Some function definitions\n",
      "def figsize(width,height):\n",
      "    rcParams['figure.figsize'] = (width,height)\n",
      "    \n",
      "def shownet(net):\n",
      "    for k, v in net.blobs.items():\n",
      "        if k in net.params:\n",
      "            params = net.params[k]\n",
      "            for pp, blob in enumerate(params):\n",
      "                if pp == 0:\n",
      "                    print '  ', 'P: %-5s'%k,\n",
      "                else:\n",
      "                    print ' ' * 11,\n",
      "                print '%-38s' % repr(blob.data.shape), '(%g, %g)' % (blob.data.min(), blob.data.max()) \n",
      "        print '%-5s'%k, '%-40s' % repr(v.data.shape), '(%g, %g)' % (v.data.min(), v.data.max())\n",
      "\n",
      "        \n",
      "# TODO\n",
      "### HERE 0. Flow information once from data to conv2    and then   conv1 to conv2, just to make sure it works\n",
      "### HERE 1. Write the above function that lets us do this via name instead of index\n",
      "### HERE 2. <see _caffe.cpp about doing BackwardPartial>"
     ],
     "language": "python",
     "metadata": {},
     "outputs": []
    },
    {
     "cell_type": "markdown",
     "metadata": {},
     "source": [
      "Which Model to load"
     ]
    },
    {
     "cell_type": "code",
     "collapsed": false,
     "input": [
      "results_dir = '../examples/imagenet/results/140311_234854_afadfd3_priv_netbase/'\n",
      "model_def_file = '../examples/imagenet/imagenet_deploy.prototxt'\n",
      "pretrained_model = results_dir + 'caffe_imagenet_train_iter_450000'\n",
      "image_filename = caffe_root + 'examples/images/cat.jpg'"
     ],
     "language": "python",
     "metadata": {},
     "outputs": []
    },
    {
     "cell_type": "markdown",
     "metadata": {},
     "source": [
      "## Complete forward pass"
     ]
    },
    {
     "cell_type": "markdown",
     "metadata": {},
     "source": [
      "Load the model and show network with all activations set to 0"
     ]
    },
    {
     "cell_type": "code",
     "collapsed": false,
     "input": [
      "net = caffe.Net(model_def_file, pretrained_model)\n",
      "net.set_phase_test()\n",
      "net.set_mode_cpu()"
     ],
     "language": "python",
     "metadata": {},
     "outputs": []
    },
    {
     "cell_type": "code",
     "collapsed": false,
     "input": [
      "shownet(net)"
     ],
     "language": "python",
     "metadata": {},
     "outputs": []
    },
    {
     "cell_type": "markdown",
     "metadata": {},
     "source": [
      "Do a Standard `Forward` from data layer through the whole network"
     ]
    },
    {
     "cell_type": "code",
     "collapsed": false,
     "input": [
      "data_blob = imagenet.prepare_image(image_filename)\n",
      "output_blob = empty((10, 1000, 1, 1), dtype=np.float32)\n",
      "\n",
      "net.Forward([input_blob], [output_blob])\n",
      "figsize(12,4)\n",
      "plot(output_blob[4].flatten())"
     ],
     "language": "python",
     "metadata": {},
     "outputs": []
    },
    {
     "cell_type": "markdown",
     "metadata": {},
     "source": [
      "All layers of the network have data:"
     ]
    },
    {
     "cell_type": "code",
     "collapsed": false,
     "input": [
      "shownet(net)"
     ],
     "language": "python",
     "metadata": {},
     "outputs": []
    },
    {
     "cell_type": "markdown",
     "metadata": {},
     "source": [
      "Save data for comparison later"
     ]
    },
    {
     "cell_type": "code",
     "collapsed": false,
     "input": [
      "saved_blobs = OrderedDict()\n",
      "for name,blob in net.blobs.items():\n",
      "    #print name, blob.data.shape\n",
      "    saved_blobs[name] = blob.data.copy()"
     ],
     "language": "python",
     "metadata": {},
     "outputs": []
    },
    {
     "cell_type": "markdown",
     "metadata": {},
     "source": [
      "## Partial forward pass"
     ]
    },
    {
     "cell_type": "markdown",
     "metadata": {},
     "source": [
      "Reload net to set all activations to 0."
     ]
    },
    {
     "cell_type": "code",
     "collapsed": false,
     "input": [
      "net = caffe.Net(model_def_file, pretrained_model)\n",
      "shownet(net)"
     ],
     "language": "python",
     "metadata": {},
     "outputs": []
    },
    {
     "cell_type": "code",
     "collapsed": false,
     "input": [
      "pool1 = net.ForwardFrom('data', 'pool1', data_blob)\n",
      "print 'difference:', abs(saved_blobs['pool1'] - pool1).sum()"
     ],
     "language": "python",
     "metadata": {},
     "outputs": []
    },
    {
     "cell_type": "markdown",
     "metadata": {},
     "source": [
      "As we can see, the activations have flowed only partially through the network"
     ]
    },
    {
     "cell_type": "code",
     "collapsed": false,
     "input": [
      "shownet(net)"
     ],
     "language": "python",
     "metadata": {},
     "outputs": []
    },
    {
     "cell_type": "markdown",
     "metadata": {},
     "source": [
      "## Partial forward pass from middle"
     ]
    },
    {
     "cell_type": "markdown",
     "metadata": {},
     "source": [
      "Of course, this isn't so useful, because we could have done the same thing by doing a complete forward pass and then grabbing the data from the single blob we wanted, all of which are possible with the standard interface. However, what is missing is the ability to start from specified data in the middle of the network."
     ]
    },
    {
     "cell_type": "code",
     "collapsed": false,
     "input": [
      "net = caffe.Net(model_def_file, pretrained_model)\n",
      "shownet(net)"
     ],
     "language": "python",
     "metadata": {},
     "outputs": []
    },
    {
     "cell_type": "markdown",
     "metadata": {},
     "source": [
      "Now, we put in the saved value for pool1 and go forward to conv5"
     ]
    },
    {
     "cell_type": "code",
     "collapsed": false,
     "input": [
      "conv5 = net.ForwardFrom('pool1', 'conv5', saved_blobs['pool1'] )\n",
      "print 'difference:', abs(saved_blobs['conv5'] - conv5).sum()"
     ],
     "language": "python",
     "metadata": {},
     "outputs": []
    },
    {
     "cell_type": "markdown",
     "metadata": {},
     "source": [
      "They don't match! This is because the conv5 does not yet include the relu, whereas when we saved the conv5 blob before, it did. If we manually apply the relu, we get the expected values:"
     ]
    },
    {
     "cell_type": "code",
     "collapsed": false,
     "input": [
      "conv5_relu = maximum(0, conv5)\n",
      "print 'difference:', abs(saved_blobs['conv5'] - conv5_relu).sum()"
     ],
     "language": "python",
     "metadata": {},
     "outputs": []
    },
    {
     "cell_type": "markdown",
     "metadata": {},
     "source": [
      "Note the negative values in the conv5 layer. This must be because the relu is applied in place."
     ]
    },
    {
     "cell_type": "code",
     "collapsed": false,
     "input": [
      "shownet(net)"
     ],
     "language": "python",
     "metadata": {},
     "outputs": []
    },
    {
     "cell_type": "markdown",
     "metadata": {},
     "source": [
      "## Scratch"
     ]
    },
    {
     "cell_type": "code",
     "collapsed": false,
     "input": [
      "def get_layer_info(name):\n",
      "    '''Returns the layer index and blob size'''\n",
      "    if name == 'data':\n",
      "        return 0, net.blobs['data'].data.shape\n",
      "    else:\n",
      "        names = [ll.name for ll in net.layers]\n",
      "        ret_idx = names.index(name) + 1   # + 1 because data is 0...\n",
      "        return net.blobs[net.layers[0].name].data.shape\n"
     ],
     "language": "python",
     "metadata": {},
     "outputs": []
    },
    {
     "cell_type": "code",
     "collapsed": false,
     "input": [
      "%connect_info"
     ],
     "language": "python",
     "metadata": {},
     "outputs": []
    }
   ],
   "metadata": {}
  }
 ]
}