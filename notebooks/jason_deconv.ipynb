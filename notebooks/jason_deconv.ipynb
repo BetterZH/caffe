{
 "metadata": {
  "name": ""
 },
 "nbformat": 3,
 "nbformat_minor": 0,
 "worksheets": [
  {
   "cells": [
    {
     "cell_type": "code",
     "collapsed": false,
     "input": [
      "import pylab\n",
      "from pylab import *\n",
      "from collections import OrderedDict\n",
      "%matplotlib inline\n",
      "plt.rcParams['image.interpolation'] = 'nearest'\n",
      "plt.rcParams['image.cmap'] = 'gray'\n",
      "\n",
      "# Make sure that caffe is on the python path:\n",
      "caffe_root = '../'  # this file is expected to be in {caffe_root}/examples\n",
      "import sys\n",
      "sys.path.insert(0, caffe_root + 'python')\n",
      "import caffe\n",
      "from caffe import imagenet\n",
      "\n",
      "\n",
      "# Some function definitions\n",
      "def figsize(width,height):\n",
      "    rcParams['figure.figsize'] = (width,height)\n",
      "    \n",
      "def shownet(net, layers=False):\n",
      "    for k, v in net.blobs.items():\n",
      "        if k in net.params:\n",
      "            params = net.params[k]\n",
      "            for pp, blob in enumerate(params):\n",
      "                if pp == 0:\n",
      "                    print '  ', 'P: %-5s'%k,\n",
      "                else:\n",
      "                    print ' ' * 11,\n",
      "                print '%-38s' % repr(blob.data.shape), '(%g, %g)' % (blob.data.min(), blob.data.max())\n",
      "        print '%-5s'%k, '%-40s' % repr(v.data.shape), '(%g, %g)' % (v.data.min(), v.data.max())\n",
      "\n",
      "    if layers:\n",
      "        print\n",
      "        print 'Layers:'\n",
      "        print net.complete_layers\n",
      "        \n",
      "# TODO\n",
      "### HERE 0. Flow information once from data to conv2    and then   conv1 to conv2, just to make sure it works\n",
      "### HERE 1. Write the above function that lets us do this via name instead of index\n",
      "### HERE 2. <see _caffe.cpp about doing BackwardPartial>"
     ],
     "language": "python",
     "metadata": {},
     "outputs": [],
     "prompt_number": 1
    },
    {
     "cell_type": "markdown",
     "metadata": {},
     "source": [
      "Which Model to load"
     ]
    },
    {
     "cell_type": "code",
     "collapsed": false,
     "input": [
      "results_dir = '../examples/imagenet/results/140311_234854_afadfd3_priv_netbase/'\n",
      "model_def_file = '../examples/imagenet/imagenet_deploy.prototxt'\n",
      "pretrained_model = results_dir + 'caffe_imagenet_train_iter_450000'\n",
      "with open('../data/ilsvrc12/synset_words.txt') as ff:\n",
      "    labels = [line.strip() for line in ff.readlines()]\n",
      "#image_filename = caffe_root + 'examples/images/cat.jpg'\n",
      "image_filename = caffe_root + 'examples/images/lion.jpg'"
     ],
     "language": "python",
     "metadata": {},
     "outputs": [],
     "prompt_number": 2
    },
    {
     "cell_type": "markdown",
     "metadata": {},
     "source": [
      "## Complete forward pass"
     ]
    },
    {
     "cell_type": "markdown",
     "metadata": {},
     "source": [
      "Load the model and show network with all activations set to 0"
     ]
    },
    {
     "cell_type": "code",
     "collapsed": false,
     "input": [
      "net = caffe.Net(model_def_file, pretrained_model)\n",
      "net.set_phase_test()\n",
      "net.set_mode_cpu()"
     ],
     "language": "python",
     "metadata": {},
     "outputs": [],
     "prompt_number": 3
    },
    {
     "cell_type": "code",
     "collapsed": false,
     "input": [
      "shownet(net, True)"
     ],
     "language": "python",
     "metadata": {},
     "outputs": [
      {
       "output_type": "stream",
       "stream": "stdout",
       "text": [
        "data  (10, 3, 227, 227)                        (0, 0)\n",
        "   P: conv1 (96, 3, 11, 11)                        (-0.432212, 0.389596)\n",
        "            (1, 1, 1, 96)                          (-0.860493, 0.224677)\n",
        "conv1 (10, 96, 55, 55)                         (0, 0)\n",
        "pool1 (10, 96, 27, 27)                         (0, 0)\n",
        "norm1 (10, 96, 27, 27)                         (0, 0)\n",
        "   P: conv2 (256, 48, 5, 5)                        (-0.247664, 0.438688)\n",
        "            (1, 1, 1, 256)                         (0.966555, 1.0324)\n",
        "conv2 (10, 256, 27, 27)                        (0, 0)\n",
        "pool2 (10, 256, 13, 13)                        (0, 0)\n",
        "norm2 (10, 256, 13, 13)                        (0, 0)\n",
        "   P: conv3 (384, 256, 3, 3)                       (-0.202087, 0.474761)\n",
        "            (1, 1, 1, 384)                         (-0.104274, 0.0958545)\n",
        "conv3 (10, 384, 13, 13)                        (0, 0)\n",
        "   P: conv4 (384, 192, 3, 3)                       (-0.157355, 0.359945)\n",
        "            (1, 1, 1, 384)                         (0.762975, 1.23653)\n",
        "conv4 "
       ]
      },
      {
       "output_type": "stream",
       "stream": "stdout",
       "text": [
        "(10, 384, 13, 13)                        (0, 0)\n",
        "   P: conv5 (256, 192, 3, 3)                       (-0.154038, 0.303211)\n",
        "            (1, 1, 1, 256)                         (0.477638, 1.73028)\n",
        "conv5 (10, 256, 13, 13)                        (0, 0)\n",
        "pool5 (10, 256, 6, 6)                          (0, 0)\n",
        "   P: fc6   (1, 1, 4096, 9216)                     "
       ]
      },
      {
       "output_type": "stream",
       "stream": "stdout",
       "text": [
        "(-0.0355359, 0.0473105)\n",
        "            (1, 1, 1, 4096)                        (0.910832, 1.0562)\n",
        "fc6   (10, 4096, 1, 1)                         (0, 0)\n",
        "   P: fc7   (1, 1, 4096, 4096)                     (-0.0306103, 0.0487324)\n",
        "            (1, 1, 1, 4096)                        (0.736774, 1.22635)\n",
        "fc7   (10, 4096, 1, 1)                         (0, 0)\n",
        "   P: fc8   (1, 1, 1000, 4096)                     (-0.045499, 0.0789288)\n",
        "            (1, 1, 1, 1000)                        (-0.372501, 0.388838)\n",
        "fc8   (10, 1000, 1, 1)                         (0, 0)\n",
        "prob  (10, 1000, 1, 1)                         (0, 0)\n",
        "\n",
        "Layers:\n",
        "['data', 'conv1', 'relu1', 'pool1', 'norm1', 'conv2', 'relu2', 'pool2', 'norm2', 'conv3', 'relu3', 'conv4', 'relu4', 'conv5', 'relu5', 'pool5', 'fc6', 'relu6', 'drop6', 'fc7', 'relu7', 'drop7', 'fc8', 'prob']\n"
       ]
      }
     ],
     "prompt_number": 4
    },
    {
     "cell_type": "markdown",
     "metadata": {},
     "source": [
      "Do a Standard `Forward` from data layer through the whole network"
     ]
    },
    {
     "cell_type": "code",
     "collapsed": false,
     "input": [
      "data_blob = imagenet.prepare_image(image_filename)\n",
      "output_blob = empty((10, 1000, 1, 1), dtype=np.float32)\n",
      "\n",
      "net.Forward([data_blob], [output_blob])\n",
      "figsize(12,4)\n",
      "plot(output_blob[4].flatten())"
     ],
     "language": "python",
     "metadata": {},
     "outputs": [
      {
       "metadata": {},
       "output_type": "pyout",
       "prompt_number": 5,
       "text": [
        "[<matplotlib.lines.Line2D at 0x5812a50>]"
       ]
      },
      {
       "metadata": {},
       "output_type": "display_data",
       "png": "[encoded data removed]",
       "text": [
        "<matplotlib.figure.Figure at 0x176c110>"
       ]
      }
     ],
     "prompt_number": 5
    },
    {
     "cell_type": "markdown",
     "metadata": {},
     "source": [
      "All layers of the network have data:"
     ]
    },
    {
     "cell_type": "code",
     "collapsed": false,
     "input": [
      "shownet(net)"
     ],
     "language": "python",
     "metadata": {},
     "outputs": [
      {
       "output_type": "stream",
       "stream": "stdout",
       "text": [
        "data  (10, 3, 227, 227)                        (-119.141, 157.995)\n",
        "   P: conv1 (96, 3, 11, 11)                        (-0.432212, 0.389596)\n",
        "            (1, 1, 1, 96)                          (-0.860493, 0.224677)\n",
        "conv1 (10, 96, 55, 55)                         (0, 1959.61)\n",
        "pool1 (10, 96, 27, 27)                         (0, 1959.61)\n",
        "norm1 (10, 96, 27, 27)                         (0, 138.721)\n",
        "   P: conv2 (256, 48, 5, 5)                        (-0.247664, 0.438688)\n",
        "            (1, 1, 1, 256)                         (0.966555, 1.0324)\n",
        "conv2 (10, 256, 27, 27)                        (0, 349.693)\n",
        "pool2 (10, 256, 13, 13)                        (0, 349.693)\n",
        "norm2 (10, 256, 13, 13)                        (0, 138.657)\n",
        "   P: conv3 (384, 256, 3, 3)                       (-0.202087, 0.474761)\n",
        "            (1, 1, 1, 384)                         (-0.104274, 0.0958545)\n",
        "conv3 (10, 384, 13, 13)                        (0, 284.613)\n",
        "   P: conv4 (384, 192, 3, 3)                       (-0.157355, 0.359945)\n",
        "            (1, 1, 1, 384)                         (0.762975, 1.23653)\n",
        "conv4 (10, 384, 13, 13)                        (0, 189.443)\n",
        "   P: conv5 (256, 192, 3, 3)                       (-0.154038, 0.303211)\n",
        "            (1, 1, 1, 256)                         (0.477638, 1.73028)\n",
        "conv5 (10, 256, 13, 13)                        (0, 174.332)\n",
        "pool5 (10, 256, 6, 6)                          (0, 174.332)\n",
        "   P: fc6   (1, 1, 4096, 9216)                     "
       ]
      },
      {
       "output_type": "stream",
       "stream": "stdout",
       "text": [
        "(-0.0355359, 0.0473105)\n",
        "            (1, 1, 1, 4096)                        (0.910832, 1.0562)\n",
        "fc6   (10, 4096, 1, 1)                         (0, 57.2626)\n",
        "   P: fc7   (1, 1, 4096, 4096)                     (-0.0306103, 0.0487324)\n",
        "            (1, 1, 1, 4096)                        (0.736774, 1.22635)\n",
        "fc7   (10, 4096, 1, 1)                         (0, 12.9231)\n",
        "   P: fc8   (1, 1, 1000, 4096)                     (-0.045499, 0.0789288)\n",
        "            (1, 1, 1, 1000)                        (-0.372501, 0.388838)\n",
        "fc8   (10, 1000, 1, 1)                         (-8.74069, 27.1383)\n",
        "prob  (10, 1000, 1, 1)                         (2.69726e-16, 0.9999)\n"
       ]
      }
     ],
     "prompt_number": 6
    },
    {
     "cell_type": "markdown",
     "metadata": {},
     "source": [
      "Save data for comparison later"
     ]
    },
    {
     "cell_type": "code",
     "collapsed": false,
     "input": [
      "saved_blobs = OrderedDict()\n",
      "for name,blob in net.blobs.items():\n",
      "    #print name, blob.data.shape\n",
      "    saved_blobs[name] = blob.data.copy()"
     ],
     "language": "python",
     "metadata": {},
     "outputs": [],
     "prompt_number": 7
    },
    {
     "cell_type": "markdown",
     "metadata": {},
     "source": [
      "## Partial forward pass"
     ]
    },
    {
     "cell_type": "markdown",
     "metadata": {},
     "source": [
      "Reload net to set all activations to 0."
     ]
    },
    {
     "cell_type": "code",
     "collapsed": false,
     "input": [
      "net = caffe.Net(model_def_file, pretrained_model)\n",
      "shownet(net)"
     ],
     "language": "python",
     "metadata": {},
     "outputs": [
      {
       "output_type": "stream",
       "stream": "stdout",
       "text": [
        "data  (10, 3, 227, 227)                        (0, 0)\n",
        "   P: conv1 (96, 3, 11, 11)                        (-0.432212, 0.389596)\n",
        "            (1, 1, 1, 96)                          (-0.860493, 0.224677)\n",
        "conv1 (10, 96, 55, 55)                         (0, 0)\n",
        "pool1 (10, 96, 27, 27)                         (0, 0)\n",
        "norm1 (10, 96, 27, 27)                         (0, 0)\n",
        "   P: conv2 (256, 48, 5, 5)                        (-0.247664, 0.438688)\n",
        "            (1, 1, 1, 256)                         (0.966555, 1.0324)\n",
        "conv2 (10, 256, 27, 27)                        (0, 0)\n",
        "pool2 (10, 256, 13, 13)                        (0, 0)\n",
        "norm2 (10, 256, 13, 13)                        (0, 0)\n",
        "   P: conv3 (384, 256, 3, 3)                       (-0.202087, 0.474761)\n",
        "            (1, 1, 1, 384)                         (-0.104274, 0.0958545)\n",
        "conv3 (10, 384, 13, 13)                        (0, 0)\n",
        "   P: conv4 (384, 192, 3, 3)                       (-0.157355, 0.359945)\n",
        "            (1, 1, 1, 384)                         (0.762975, 1.23653)\n",
        "conv4 (10, 384, 13, 13)                        (0, 0)\n",
        "   P: conv5 (256, 192, 3, 3)                       (-0.154038, 0.303211)\n",
        "            (1, 1, 1, 256)                         (0.477638, 1.73028)\n",
        "conv5 (10, 256, 13, 13)                        (0, 0)\n",
        "pool5 (10, 256, 6, 6)                          (0, 0)\n",
        "   P: fc6   (1, 1, 4096, 9216)                     "
       ]
      },
      {
       "output_type": "stream",
       "stream": "stdout",
       "text": [
        "(-0.0355359, 0.0473105)\n",
        "            (1, 1, 1, 4096)                        (0.910832, 1.0562)\n",
        "fc6   (10, 4096, 1, 1)                         (0, 0)\n",
        "   P: fc7   (1, 1, 4096, 4096)                     (-0.0306103, 0.0487324)\n",
        "            (1, 1, 1, 4096)                        (0.736774, 1.22635)\n",
        "fc7   (10, 4096, 1, 1)                         (0, 0)\n",
        "   P: fc8   (1, 1, 1000, 4096)                     (-0.045499, 0.0789288)\n",
        "            (1, 1, 1, 1000)                        (-0.372501, 0.388838)\n",
        "fc8   (10, 1000, 1, 1)                         (0, 0)\n",
        "prob  (10, 1000, 1, 1)                         (0, 0)\n"
       ]
      }
     ],
     "prompt_number": 8
    },
    {
     "cell_type": "code",
     "collapsed": false,
     "input": [
      "pool1 = net.ForwardFrom('data', 'pool1', data_blob)\n",
      "print 'difference:', abs(saved_blobs['pool1'] - pool1).sum()"
     ],
     "language": "python",
     "metadata": {},
     "outputs": [
      {
       "output_type": "stream",
       "stream": "stdout",
       "text": [
        "difference: 0.0\n"
       ]
      }
     ],
     "prompt_number": 9
    },
    {
     "cell_type": "markdown",
     "metadata": {},
     "source": [
      "As we can see, the activations have flowed only partially through the network"
     ]
    },
    {
     "cell_type": "code",
     "collapsed": false,
     "input": [
      "shownet(net)"
     ],
     "language": "python",
     "metadata": {},
     "outputs": [
      {
       "output_type": "stream",
       "stream": "stdout",
       "text": [
        "data  (10, 3, 227, 227)                        (-119.141, 157.995)\n",
        "   P: conv1 (96, 3, 11, 11)                        (-0.432212, 0.389596)\n",
        "            (1, 1, 1, 96)                          (-0.860493, 0.224677)\n",
        "conv1 (10, 96, 55, 55)                         (0, 1959.61)\n",
        "pool1 (10, 96, 27, 27)                         (0, 1959.61)\n",
        "norm1 (10, 96, 27, 27)                         (0, 0)\n",
        "   P: conv2 (256, 48, 5, 5)                        (-0.247664, 0.438688)\n",
        "            (1, 1, 1, 256)                         (0.966555, 1.0324)\n",
        "conv2 (10, 256, 27, 27)                        (0, 0)\n",
        "pool2 (10, 256, 13, 13)                        (0, 0)\n",
        "norm2 (10, 256, 13, 13)                        (0, 0)\n",
        "   P: conv3 (384, 256, 3, 3)                       (-0.202087, 0.474761)\n",
        "            (1, 1, 1, 384)                         (-0.104274, 0.0958545)\n",
        "conv3 (10, 384, 13, 13)                        (0, 0)\n",
        "   P: conv4 (384, 192, 3, 3)                       (-0.157355, 0.359945)\n",
        "            (1, 1, 1, 384)                         (0.762975, 1.23653)\n",
        "conv4 (10, 384, 13, 13)                        (0, 0)\n",
        "   P: conv5 (256, 192, 3, 3)                       (-0.154038, 0.303211)\n",
        "            (1, 1, 1, 256)                         (0.477638, 1.73028)\n",
        "conv5 (10, 256, 13, 13)                        (0, 0)\n",
        "pool5 (10, 256, 6, 6)                          (0, 0)\n",
        "   P: fc6   (1, 1, 4096, 9216)                     "
       ]
      },
      {
       "output_type": "stream",
       "stream": "stdout",
       "text": [
        "(-0.0355359, 0.0473105)\n",
        "            (1, 1, 1, 4096)                        (0.910832, 1.0562)\n",
        "fc6   (10, 4096, 1, 1)                         (0, 0)\n",
        "   P: fc7   (1, 1, 4096, 4096)                     (-0.0306103, 0.0487324)\n",
        "            (1, 1, 1, 4096)                        (0.736774, 1.22635)\n",
        "fc7   (10, 4096, 1, 1)                         (0, 0)\n",
        "   P: fc8   (1, 1, 1000, 4096)                     (-0.045499, 0.0789288)\n",
        "            (1, 1, 1, 1000)                        (-0.372501, 0.388838)\n",
        "fc8   (10, 1000, 1, 1)                         (0, 0)\n",
        "prob  (10, 1000, 1, 1)                         (0, 0)\n"
       ]
      }
     ],
     "prompt_number": 10
    },
    {
     "cell_type": "markdown",
     "metadata": {},
     "source": [
      "## Partial forward pass from middle"
     ]
    },
    {
     "cell_type": "markdown",
     "metadata": {},
     "source": [
      "Of course, this isn't so useful, because we could have done the same thing by doing a complete forward pass and then grabbing the data from the single blob we wanted, all of which are possible with the standard interface. However, what is missing is the ability to start from specified data in the middle of the network."
     ]
    },
    {
     "cell_type": "code",
     "collapsed": false,
     "input": [
      "net = caffe.Net(model_def_file, pretrained_model)\n",
      "shownet(net)"
     ],
     "language": "python",
     "metadata": {},
     "outputs": [
      {
       "output_type": "stream",
       "stream": "stdout",
       "text": [
        "data  (10, 3, 227, 227)                        (0, 0)\n",
        "   P: conv1 (96, 3, 11, 11)                        (-0.432212, 0.389596)\n",
        "            (1, 1, 1, 96)                          (-0.860493, 0.224677)\n",
        "conv1 (10, 96, 55, 55)                         (0, 0)\n",
        "pool1 (10, 96, 27, 27)                         (0, 0)\n",
        "norm1 (10, 96, 27, 27)                         (0, 0)\n",
        "   P: conv2 (256, 48, 5, 5)                        (-0.247664, 0.438688)\n",
        "            (1, 1, 1, 256)                         (0.966555, 1.0324)\n",
        "conv2 (10, 256, 27, 27)                        (0, 0)\n",
        "pool2 (10, 256, 13, 13)                        (0, 0)\n",
        "norm2 (10, 256, 13, 13)                        (0, 0)\n",
        "   P: conv3 (384, 256, 3, 3)                       (-0.202087, 0.474761)\n",
        "            (1, 1, 1, 384)                         (-0.104274, 0.0958545)\n",
        "conv3 (10, 384, 13, 13)                        (0, 0)\n",
        "   P: conv4 (384, 192, 3, 3)                       (-0.157355, 0.359945)\n",
        "            (1, 1, 1, 384)                         (0.762975, 1.23653)\n",
        "conv4 (10, 384, 13, 13)                        (0, 0)\n",
        "   P: conv5 (256, 192, 3, 3)                       (-0.154038, 0.303211)\n",
        "            (1, 1, 1, 256)                         (0.477638, 1.73028)\n",
        "conv5 (10, 256, 13, 13)                        (0, 0)\n",
        "pool5 (10, 256, 6, 6)                          (0, 0)\n",
        "   P: fc6   (1, 1, 4096, 9216)                     "
       ]
      },
      {
       "output_type": "stream",
       "stream": "stdout",
       "text": [
        "(-0.0355359, 0.0473105)\n",
        "            (1, 1, 1, 4096)                        (0.910832, 1.0562)\n",
        "fc6   (10, 4096, 1, 1)                         (0, 0)\n",
        "   P: fc7   (1, 1, 4096, 4096)                     (-0.0306103, 0.0487324)\n",
        "            (1, 1, 1, 4096)                        (0.736774, 1.22635)\n",
        "fc7   (10, 4096, 1, 1)                         (0, 0)\n",
        "   P: fc8   (1, 1, 1000, 4096)                     (-0.045499, 0.0789288)\n",
        "            (1, 1, 1, 1000)                        (-0.372501, 0.388838)\n",
        "fc8   (10, 1000, 1, 1)                         (0, 0)\n",
        "prob  (10, 1000, 1, 1)                         (0, 0)\n"
       ]
      }
     ],
     "prompt_number": 11
    },
    {
     "cell_type": "markdown",
     "metadata": {},
     "source": [
      "Now, we put in the saved value for pool1 and go forward to conv5"
     ]
    },
    {
     "cell_type": "code",
     "collapsed": false,
     "input": [
      "conv5 = net.ForwardFrom('pool1', 'conv5', saved_blobs['pool1'] )\n",
      "print 'difference:', abs(saved_blobs['conv5'] - conv5).sum()"
     ],
     "language": "python",
     "metadata": {},
     "outputs": [
      {
       "output_type": "stream",
       "stream": "stdout",
       "text": [
        "difference: 1.38487e+07\n"
       ]
      }
     ],
     "prompt_number": 12
    },
    {
     "cell_type": "markdown",
     "metadata": {},
     "source": [
      "They don't match! This is because the conv5 does not yet include the relu, whereas when we saved the conv5 blob before, it did. If we manually apply the relu, we get the expected values:"
     ]
    },
    {
     "cell_type": "code",
     "collapsed": false,
     "input": [
      "conv5_relu = maximum(0, conv5)\n",
      "print 'difference:', abs(saved_blobs['conv5'] - conv5_relu).sum()"
     ],
     "language": "python",
     "metadata": {},
     "outputs": [
      {
       "output_type": "stream",
       "stream": "stdout",
       "text": [
        "difference: 0.0\n"
       ]
      }
     ],
     "prompt_number": 13
    },
    {
     "cell_type": "markdown",
     "metadata": {},
     "source": [
      "Note the negative values in the conv5 layer. This must be because the relu is applied in place."
     ]
    },
    {
     "cell_type": "code",
     "collapsed": false,
     "input": [
      "shownet(net)"
     ],
     "language": "python",
     "metadata": {},
     "outputs": [
      {
       "output_type": "stream",
       "stream": "stdout",
       "text": [
        "data  (10, 3, 227, 227)                        (0, 0)\n",
        "   P: conv1 (96, 3, 11, 11)                        (-0.432212, 0.389596)\n",
        "            (1, 1, 1, 96)                          (-0.860493, 0.224677)\n",
        "conv1 (10, 96, 55, 55)                         (0, 0)\n",
        "pool1 (10, 96, 27, 27)                         (0, 1959.61)\n",
        "norm1 (10, 96, 27, 27)                         (0, 138.721)\n",
        "   P: conv2 (256, 48, 5, 5)                        (-0.247664, 0.438688)\n",
        "            (1, 1, 1, 256)                         (0.966555, 1.0324)\n",
        "conv2 (10, 256, 27, 27)                        (0, 349.693)\n",
        "pool2 (10, 256, 13, 13)                        (0, 349.693)\n",
        "norm2 (10, 256, 13, 13)                        (0, 138.657)\n",
        "   P: conv3 (384, 256, 3, 3)                       (-0.202087, 0.474761)\n",
        "            (1, 1, 1, 384)                         (-0.104274, 0.0958545)\n",
        "conv3 (10, 384, 13, 13)                        (0, 284.613)\n",
        "   P: conv4 (384, 192, 3, 3)                       (-0.157355, 0.359945)\n",
        "            (1, 1, 1, 384)                         (0.762975, 1.23653)\n",
        "conv4 (10, 384, 13, 13)                        (0, 189.443)\n",
        "   P: conv5 (256, 192, 3, 3)                       (-0.154038, 0.303211)\n",
        "            (1, 1, 1, 256)                         (0.477638, 1.73028)\n",
        "conv5 (10, 256, 13, 13)                        (-152.682, 174.332)\n",
        "pool5 (10, 256, 6, 6)                          (0, 0)\n",
        "   P: fc6   (1, 1, 4096, 9216)                     "
       ]
      },
      {
       "output_type": "stream",
       "stream": "stdout",
       "text": [
        "(-0.0355359, 0.0473105)\n",
        "            (1, 1, 1, 4096)                        (0.910832, 1.0562)\n",
        "fc6   (10, 4096, 1, 1)                         (0, 0)\n",
        "   P: fc7   (1, 1, 4096, 4096)                     (-0.0306103, 0.0487324)\n",
        "            (1, 1, 1, 4096)                        (0.736774, 1.22635)\n",
        "fc7   (10, 4096, 1, 1)                         (0, 0)\n",
        "   P: fc8   (1, 1, 1000, 4096)                     (-0.045499, 0.0789288)\n",
        "            (1, 1, 1, 1000)                        (-0.372501, 0.388838)\n",
        "fc8   (10, 1000, 1, 1)                         (0, 0)\n",
        "prob  (10, 1000, 1, 1)                         (0, 0)\n"
       ]
      }
     ],
     "prompt_number": 14
    },
    {
     "cell_type": "markdown",
     "metadata": {},
     "source": [
      "Alternately, we can just go to the `relu5` layer:"
     ]
    },
    {
     "cell_type": "code",
     "collapsed": false,
     "input": [
      "#reload(caffe)\n",
      "#from caffe import pycaffe\n",
      "#reload(pycaffe)\n",
      "net = caffe.Net(model_def_file, pretrained_model)\n",
      "relu5 = net.ForwardFrom('pool1', 'relu5', saved_blobs['pool1'], shape_ref='conv5')\n",
      "print 'difference:', abs(saved_blobs['conv5'] - relu5).sum()"
     ],
     "language": "python",
     "metadata": {},
     "outputs": [
      {
       "output_type": "stream",
       "stream": "stdout",
       "text": [
        "difference: 0.0\n"
       ]
      }
     ],
     "prompt_number": 15
    },
    {
     "cell_type": "markdown",
     "metadata": {},
     "source": [
      "## Scratch"
     ]
    },
    {
     "cell_type": "code",
     "collapsed": false,
     "input": [
      "def get_layer_info(name):\n",
      "    '''Returns the layer index and blob size'''\n",
      "    if name == 'data':\n",
      "        return 0, net.blobs['data'].data.shape\n",
      "    else:\n",
      "        names = [ll.name for ll in net.layers]\n",
      "        ret_idx = names.index(name) + 1   # + 1 because data is 0...\n",
      "        return net.blobs[net.layers[0].name].data.shape\n"
     ],
     "language": "python",
     "metadata": {},
     "outputs": [],
     "prompt_number": 16
    },
    {
     "cell_type": "code",
     "collapsed": false,
     "input": [
      "%connect_info"
     ],
     "language": "python",
     "metadata": {},
     "outputs": [
      {
       "output_type": "stream",
       "stream": "stdout",
       "text": [
        "{\n",
        "  \"stdin_port\": 45192, \n",
        "  \"ip\": \"127.0.0.1\", \n",
        "  \"control_port\": 59135, \n",
        "  \"hb_port\": 41010, \n",
        "  \"signature_scheme\": \"hmac-sha256\", \n",
        "  \"key\": \"4fd605ac-6684-46c2-b6bf-b459f4f40b6f\", \n",
        "  \"shell_port\": 50126, \n",
        "  \"transport\": \"tcp\", \n",
        "  \"iopub_port\": 37815\n",
        "}\n",
        "\n",
        "Paste the above JSON into a file, and connect with:\n",
        "    $> ipython <app> --existing <file>\n",
        "or, if you are local, you can connect with just:\n",
        "    $> ipython <app> --existing kernel-542421ea-763b-4941-a670-32c009ae553e.json \n",
        "or even just:\n",
        "    $> ipython <app> --existing \n",
        "if this is the most recent IPython session you have started.\n"
       ]
      }
     ],
     "prompt_number": 17
    },
    {
     "cell_type": "code",
     "collapsed": false,
     "input": [
      "net.complete_layers"
     ],
     "language": "python",
     "metadata": {},
     "outputs": [
      {
       "metadata": {},
       "output_type": "pyout",
       "prompt_number": 18,
       "text": [
        "['data',\n",
        " 'conv1',\n",
        " 'relu1',\n",
        " 'pool1',\n",
        " 'norm1',\n",
        " 'conv2',\n",
        " 'relu2',\n",
        " 'pool2',\n",
        " 'norm2',\n",
        " 'conv3',\n",
        " 'relu3',\n",
        " 'conv4',\n",
        " 'relu4',\n",
        " 'conv5',\n",
        " 'relu5',\n",
        " 'pool5',\n",
        " 'fc6',\n",
        " 'relu6',\n",
        " 'drop6',\n",
        " 'fc7',\n",
        " 'relu7',\n",
        " 'drop7',\n",
        " 'fc8',\n",
        " 'prob']"
       ]
      }
     ],
     "prompt_number": 18
    }
   ],
   "metadata": {}
  }
 ]
}