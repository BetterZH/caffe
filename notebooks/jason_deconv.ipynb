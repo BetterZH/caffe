{
 "metadata": {
  "name": ""
 },
 "nbformat": 3,
 "nbformat_minor": 0,
 "worksheets": [
  {
   "cells": [
    {
     "cell_type": "code",
     "collapsed": false,
     "input": [
      "import pylab\n",
      "from pylab import *\n",
      "%matplotlib inline\n",
      "pylab.rcParams['figure.figsize'] = (18,9)\n",
      "plt.rcParams['image.interpolation'] = 'nearest'\n",
      "plt.rcParams['image.cmap'] = 'gray'\n",
      "\n",
      "# Make sure that caffe is on the python path:\n",
      "caffe_root = '../'  # this file is expected to be in {caffe_root}/examples\n",
      "import sys\n",
      "sys.path.insert(0, caffe_root + 'python')\n",
      "import caffe\n",
      "from caffe import imagenet\n",
      "\n",
      "from datetime import datetime\n",
      "print datetime.now()"
     ],
     "language": "python",
     "metadata": {},
     "outputs": []
    },
    {
     "cell_type": "code",
     "collapsed": false,
     "input": [
      "results_dir = '../examples/imagenet/results/140311_234854_afadfd3_priv_netbase/'\n",
      "model_def_file = '../examples/imagenet/imagenet_deploy.prototxt'\n",
      "pretrained_model = results_dir + 'caffe_imagenet_train_iter_450000'\n",
      "\n",
      "#net = caffe.imagenet.ImageNetClassifier('../examples/imagenet/imagenet_deploy.prototxt',\n",
      "#                                        results_dir + 'caffe_imagenet_train_iter_450000')\n",
      "#net.caffenet.set_phase_test()\n",
      "#net.caffenet.set_mode_cpu()\n",
      "#\n",
      "#print net"
     ],
     "language": "python",
     "metadata": {},
     "outputs": []
    },
    {
     "cell_type": "code",
     "collapsed": false,
     "input": [
      "# More setup\n",
      "def figsize(width,height):\n",
      "    rcParams['figure.figsize'] = (width,height)\n",
      "    \n",
      "def shownet(net):\n",
      "    for k, v in net.blobs.items():\n",
      "        if k in net.params:\n",
      "            params = net.params[k]\n",
      "            for pp, blob in enumerate(params):\n",
      "                if pp == 0:\n",
      "                    print '  ', 'P: %-5s'%k,\n",
      "                else:\n",
      "                    print ' ' * 11,\n",
      "                print '%-38s' % repr(blob.data.shape), '(%g, %g)' % (blob.data.min(), blob.data.max()) \n",
      "        print '%-5s'%k, '%-40s' % repr(v.data.shape), '(%g, %g)' % (v.data.min(), v.data.max())"
     ],
     "language": "python",
     "metadata": {},
     "outputs": []
    },
    {
     "cell_type": "code",
     "collapsed": false,
     "input": [
      "def get_layer_info(name):\n",
      "    '''Returns the layer index and blob size'''\n",
      "    if name == 'data':\n",
      "        return 0, net.blobs['data'].data.shape\n",
      "    else:\n",
      "        names = [ll.name for ll in net.layers]\n",
      "        ret_idx = names.index(name) + 1   # + 1 because data is 0...\n",
      "        return net.blobs[net.layers[0].name].data.shape\n",
      "\n",
      "### HERE 0. Flow information once from data to conv2    and then   conv1 to conv2, just to make sure it works\n",
      "### HERE 1. Write the above function that lets us do this via name instead of index\n",
      "### HERE 2. <see _caffe.cpp about doing BackwardPartial>"
     ],
     "language": "python",
     "metadata": {},
     "outputs": []
    },
    {
     "cell_type": "code",
     "collapsed": false,
     "input": [
      "net = caffe.Net(model_def_file, pretrained_model)\n",
      "net.set_phase_test()\n",
      "net.set_mode_cpu()"
     ],
     "language": "python",
     "metadata": {},
     "outputs": []
    },
    {
     "cell_type": "code",
     "collapsed": false,
     "input": [
      "shownet(net)"
     ],
     "language": "python",
     "metadata": {},
     "outputs": []
    },
    {
     "cell_type": "code",
     "collapsed": false,
     "input": [
      "#print net.blobs.items()[1][1].data.shape\n",
      "#print net.blobs.items()[1][1].data.min()\n",
      "#print net.blobs.items()[1][1].data.max()"
     ],
     "language": "python",
     "metadata": {},
     "outputs": []
    },
    {
     "cell_type": "code",
     "collapsed": false,
     "input": [
      "filename = caffe_root + 'examples/images/cat.jpg'\n",
      "input_blob = [imagenet.prepare_image(filename)]\n",
      "output_blobs = [empty((10, 1000, 1, 1), dtype=np.float32)]\n",
      "\n",
      "net.Forward(input_blob, output_blobs)\n",
      "\n",
      "#return self._output_blobs[0].mean(0).flatten()"
     ],
     "language": "python",
     "metadata": {},
     "outputs": []
    },
    {
     "cell_type": "code",
     "collapsed": false,
     "input": [
      "shownet(net)"
     ],
     "language": "python",
     "metadata": {},
     "outputs": []
    },
    {
     "cell_type": "code",
     "collapsed": false,
     "input": [
      "net = caffe.Net(model_def_file, pretrained_model)"
     ],
     "language": "python",
     "metadata": {},
     "outputs": []
    },
    {
     "cell_type": "code",
     "collapsed": false,
     "input": [
      "shownet(net)"
     ],
     "language": "python",
     "metadata": {},
     "outputs": []
    },
    {
     "cell_type": "code",
     "collapsed": false,
     "input": [
      "len(net.blobs)"
     ],
     "language": "python",
     "metadata": {},
     "outputs": []
    },
    {
     "cell_type": "code",
     "collapsed": false,
     "input": [
      "bdata = net.blobs.items()[0]\n",
      "print bdata[0]\n",
      "print bdata[1]"
     ],
     "language": "python",
     "metadata": {},
     "outputs": []
    },
    {
     "cell_type": "code",
     "collapsed": false,
     "input": [
      "len(net.layers)"
     ],
     "language": "python",
     "metadata": {},
     "outputs": []
    },
    {
     "cell_type": "code",
     "collapsed": false,
     "input": [
      "for layer in net.layers:\n",
      "    print layer.name, layer.blobs, len(layer.blobs)\n",
      "    \n",
      "    for blob in layer.blobs:\n",
      "        print '  ', blob.name, blob.data.shape\n",
      "#layer = net.layers[0]\n",
      "#len(layer.blobs)\n",
      "\n",
      "print\n",
      "net.blobs.items()[0]\n"
     ],
     "language": "python",
     "metadata": {},
     "outputs": []
    },
    {
     "cell_type": "code",
     "collapsed": false,
     "input": [
      "filename = caffe_root + 'examples/images/cat.jpg'\n",
      "input_blob = [imagenet.prepare_image(filename)]\n",
      "output_blobs = [empty((10, 1000, 1, 1), dtype=np.float32)]\n",
      "\n",
      "net.ForwardPartial(input_blob, output_blobs, 0, 23)\n"
     ],
     "language": "python",
     "metadata": {},
     "outputs": []
    },
    {
     "cell_type": "code",
     "collapsed": false,
     "input": [
      "shownet(net)"
     ],
     "language": "python",
     "metadata": {},
     "outputs": []
    },
    {
     "cell_type": "code",
     "collapsed": false,
     "input": [
      "figsize(15,6)\n",
      "plot(output_blobs[0][4].flatten())"
     ],
     "language": "python",
     "metadata": {},
     "outputs": []
    },
    {
     "cell_type": "code",
     "collapsed": false,
     "input": [
      "\n",
      "\n",
      "shownet(net)"
     ],
     "language": "python",
     "metadata": {},
     "outputs": []
    },
    {
     "cell_type": "code",
     "collapsed": false,
     "input": [
      "len(net.params['conv2'])"
     ],
     "language": "python",
     "metadata": {},
     "outputs": []
    },
    {
     "cell_type": "code",
     "collapsed": false,
     "input": [
      "filters = net.params['conv2'][0]"
     ],
     "language": "python",
     "metadata": {},
     "outputs": []
    },
    {
     "cell_type": "code",
     "collapsed": false,
     "input": [
      "filters.count"
     ],
     "language": "python",
     "metadata": {},
     "outputs": []
    },
    {
     "cell_type": "code",
     "collapsed": false,
     "input": [
      "%connect_info"
     ],
     "language": "python",
     "metadata": {},
     "outputs": []
    },
    {
     "cell_type": "code",
     "collapsed": false,
     "input": [
      "_=hist(filters.data.flatten(), 80)"
     ],
     "language": "python",
     "metadata": {},
     "outputs": []
    },
    {
     "cell_type": "code",
     "collapsed": false,
     "input": [],
     "language": "python",
     "metadata": {},
     "outputs": []
    }
   ],
   "metadata": {}
  }
 ]
}