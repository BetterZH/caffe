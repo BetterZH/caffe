{
 "metadata": {
  "name": ""
 },
 "nbformat": 3,
 "nbformat_minor": 0,
 "worksheets": [
  {
   "cells": [
    {
     "cell_type": "code",
     "collapsed": false,
     "input": [
      "from localdefs import *\n",
      "from pylab import *\n",
      "from plotting import *\n",
      "\n",
      "import os\n",
      "%matplotlib inline\n",
      "\n",
      "figsize(15,8)"
     ],
     "language": "python",
     "metadata": {},
     "outputs": []
    },
    {
     "cell_type": "code",
     "collapsed": false,
     "input": [
      "def sigm(xx):\n",
      "    return 1/(1+exp(-xx))\n",
      "\n",
      "def dsigm(xx):\n",
      "    return sigm(xx) * (1-sigm(xx))\n",
      "\n",
      "def kldiv(y, yhat):\n",
      "    '''Assuming y = 0 or 1 and yhat is in [0,1]'''\n",
      "    assert y==0 or y==1\n",
      "    assert (yhat>=0).all() and (yhat<=1).all()\n",
      "    return -y*log(yhat) - (1-y)*log(1-yhat)\n",
      "\n",
      "def dkldiv(y, yhat):\n",
      "    '''Assuming y = 0 or 1 and yhat is in [0,1]'''\n",
      "    assert y==0 or y==1\n",
      "    assert (yhat>=0).all() and (yhat<=1).all()\n",
      "    return -y/yhat + (1-y)/(1-yhat)"
     ],
     "language": "python",
     "metadata": {},
     "outputs": []
    },
    {
     "cell_type": "code",
     "collapsed": false,
     "input": [
      "figsize(15,6)\n",
      "\n",
      "tt = linspace(-4,4,100)\n",
      "plot(tt, sigm(tt), 'b')\n",
      "plot(tt, dsigm(tt), 'r')"
     ],
     "language": "python",
     "metadata": {},
     "outputs": []
    },
    {
     "cell_type": "code",
     "collapsed": false,
     "input": [
      "tt = linspace(.001,1-.001,100)\n",
      "plot(tt, kldiv(1, tt), 'b')"
     ],
     "language": "python",
     "metadata": {},
     "outputs": []
    },
    {
     "cell_type": "code",
     "collapsed": false,
     "input": [
      "plot(tt, dkldiv(1, tt), 'r')"
     ],
     "language": "python",
     "metadata": {},
     "outputs": []
    },
    {
     "cell_type": "code",
     "collapsed": false,
     "input": [
      "def L_of_z(y, zz):\n",
      "    yhat = sigm(zz)\n",
      "    return kldiv(y, yhat)\n",
      "def dL_of_z(y, zz):\n",
      "    yhat = sigm(zz)\n",
      "    return dkldiv(y, yhat) * dsigm(zz)\n"
     ],
     "language": "python",
     "metadata": {},
     "outputs": []
    },
    {
     "cell_type": "code",
     "collapsed": false,
     "input": [
      "tt = linspace(-4,4,100)\n",
      "plot(tt, L_of_z(1, tt), 'b')\n",
      "plot(tt, dL_of_z(1, tt), 'r')"
     ],
     "language": "python",
     "metadata": {},
     "outputs": []
    },
    {
     "cell_type": "code",
     "collapsed": false,
     "input": [
      "plot(tt, L_of_z(0, tt), 'b')\n",
      "plot(tt, dL_of_z(0, tt), 'r')"
     ],
     "language": "python",
     "metadata": {},
     "outputs": []
    },
    {
     "cell_type": "code",
     "collapsed": false,
     "input": [
      "def loss_me(y, zhat):\n",
      "    yhat = sigm(zhat)\n",
      "    loss = kldiv(y, yhat)\n",
      "    return loss\n",
      "def loss_sguada(y, zhat):\n",
      "    loss = -zhat * ((y>0)-(zhat>=0)) + log(1+exp(zhat - 2*zhat*(zhat>=0)))\n",
      "    return loss\n",
      "\n",
      "def loss_sguada_y1_left(zhat):\n",
      "    return -zhat + log(1 + exp(zhat))\n",
      "def loss_sguada_y1_right(zhat):\n",
      "    return log(1 + exp(-zhat))"
     ],
     "language": "python",
     "metadata": {},
     "outputs": []
    },
    {
     "cell_type": "code",
     "collapsed": false,
     "input": [
      "tt = linspace(-5,5,100)\n",
      "figsize(15,6)\n",
      "plot(tt, loss_me(1, tt), 'b')\n",
      "plot(tt, loss_sguada(1, tt), 'g')\n",
      "plot(tt, loss_sguada_y1_left(tt), 'm')\n",
      "plot(tt, loss_sguada_y1_left(tt), 'k')"
     ],
     "language": "python",
     "metadata": {},
     "outputs": []
    },
    {
     "cell_type": "code",
     "collapsed": false,
     "input": [
      "figsize(15,3)\n",
      "plot(tt, loss_sguada(1, tt) - loss_me(1, tt), 'g')\n",
      "plot(tt, loss_sguada_y1_left(tt) - loss_me(1, tt), 'm')\n",
      "plot(tt, loss_sguada_y1_right(tt) - loss_me(1, tt), 'k')"
     ],
     "language": "python",
     "metadata": {},
     "outputs": []
    },
    {
     "cell_type": "markdown",
     "metadata": {},
     "source": [
      "Conclusion: the below code from https://github.com/BVLC/caffe/pull/523 should work as intended:\n",
      "\n",
      "```c++\n",
      "template <typename Dtype>\n",
      "Dtype MultiLabelLossLayer<Dtype>::Forward_cpu(\n",
      "    const vector<Blob<Dtype>*>& bottom, vector<Blob<Dtype>*>* top) {\n",
      "  // The forward pass computes the sigmoid outputs.\n",
      "  sigmoid_bottom_vec_[0] = bottom[0];\n",
      "  sigmoid_layer_->Forward(sigmoid_bottom_vec_, &sigmoid_top_vec_);\n",
      "  // Compute the loss (negative log likelihood)\n",
      "  const int count = bottom[0]->count();\n",
      "  const int num = bottom[0]->num();\n",
      "  // Stable version of loss computation from input data\n",
      "  const Dtype* input_data = bottom[0]->cpu_data();\n",
      "  const Dtype* target = bottom[1]->cpu_data();\n",
      "  Dtype loss = 0;\n",
      "  for (int i = 0; i < count; ++i) {\n",
      "    if (target[i] != 0) {\n",
      "    // Update the loss only if target[i] is not 0\n",
      "      loss -= input_data[i] * ((target[i] > 0) - (input_data[i] >= 0)) -\n",
      "          log(1 + exp(input_data[i] - 2 * input_data[i] * (input_data[i] >= 0)));\n",
      "    }\n",
      "    if (top->size() >= 1) {\n",
      "      (*top)[0]->mutable_cpu_data()[0] = loss / num;\n",
      "    }\n",
      "  }\n",
      "  return loss / num;\n",
      "}\n",
      "\n",
      "template <typename Dtype>\n",
      "void MultiLabelLossLayer<Dtype>::Backward_cpu(\n",
      "    const vector<Blob<Dtype>*>& top, const vector<bool>& propagate_down,\n",
      "    vector<Blob<Dtype>*>* bottom) {\n",
      "  if (propagate_down[1]) {\n",
      "    LOG(FATAL) << this->type_name()\n",
      "               << \" Layer cannot backpropagate to label inputs.\";\n",
      "  }\n",
      "  if (propagate_down[0]) {\n",
      "    // First, compute the diff\n",
      "    const int count = (*bottom)[0]->count();\n",
      "    const int num = (*bottom)[0]->num();\n",
      "    const Dtype* sigmoid_output_data = sigmoid_output_->cpu_data();\n",
      "    const Dtype* target = (*bottom)[1]->cpu_data();\n",
      "    Dtype* bottom_diff = (*bottom)[0]->mutable_cpu_diff();\n",
      "    for (int i = 0; i < count; ++i) {\n",
      "      if (target[i] != 0) {\n",
      "        bottom_diff[i] = sigmoid_output_data[i] - (target[i] > 0);\n",
      "      } else {\n",
      "        bottom_diff[i] = 0;\n",
      "      }\n",
      "    }\n",
      "    // Scale down gradient\n",
      "    caffe_scal(count, Dtype(1) / num, bottom_diff);\n",
      "  }\n",
      "}\n",
      "\n",
      "```"
     ]
    },
    {
     "cell_type": "code",
     "collapsed": false,
     "input": [],
     "language": "python",
     "metadata": {},
     "outputs": []
    }
   ],
   "metadata": {}
  }
 ]
}