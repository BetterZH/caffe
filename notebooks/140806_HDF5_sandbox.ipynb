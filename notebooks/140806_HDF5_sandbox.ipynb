{
 "metadata": {
  "name": ""
 },
 "nbformat": 3,
 "nbformat_minor": 0,
 "worksheets": [
  {
   "cells": [
    {
     "cell_type": "code",
     "collapsed": false,
     "input": [
      "from localdefs import *\n",
      "from pylab import *\n",
      "#from plotting import *\n",
      "#from pascal import class_name_bg, class_names, n_class, n_class_plus, conf_counts_single, accuracies_from_conf\n",
      "#from PIL import Image\n",
      "import os\n",
      "import h5py\n",
      "import skimage\n",
      "\n",
      "%matplotlib inline\n",
      "\n",
      "\n",
      "caffe_root = '../'\n",
      "import sys\n",
      "sys.path.insert(0, caffe_root + 'python')\n",
      "import caffe\n",
      "\n",
      "figsize(15,8)"
     ],
     "language": "python",
     "metadata": {},
     "outputs": []
    },
    {
     "cell_type": "code",
     "collapsed": false,
     "input": [
      "# Copied and modified from caffe/src/caffe/test/test_hdf5data_layer.cpp "
     ],
     "language": "python",
     "metadata": {},
     "outputs": []
    },
    {
     "cell_type": "code",
     "collapsed": false,
     "input": [
      "num_cols = 8\n",
      "num_rows = 10\n",
      "height = 5\n",
      "width = 5\n",
      "total_size = num_cols * num_rows * height * width"
     ],
     "language": "python",
     "metadata": {},
     "outputs": []
    },
    {
     "cell_type": "code",
     "collapsed": false,
     "input": [
      "data = arange(total_size)\n",
      "data = data.reshape(num_rows, num_cols, height, width)\n",
      "data = data.astype('float32')\n",
      "label = arange(num_rows)[:, newaxis]\n",
      "label = label.astype('float32')"
     ],
     "language": "python",
     "metadata": {},
     "outputs": []
    },
    {
     "cell_type": "code",
     "collapsed": false,
     "input": [
      "print data.shape\n",
      "print label.shape"
     ],
     "language": "python",
     "metadata": {},
     "outputs": []
    },
    {
     "cell_type": "markdown",
     "metadata": {},
     "source": [
      "Make h5 file"
     ]
    },
    {
     "cell_type": "code",
     "collapsed": false,
     "input": [
      "with h5py.File('sample_data.h5', 'w') as ff:\n",
      "    ff['data'] = data\n",
      "    ff['label'] = label"
     ],
     "language": "python",
     "metadata": {},
     "outputs": []
    },
    {
     "cell_type": "markdown",
     "metadata": {},
     "source": [
      "Make zippped version"
     ]
    },
    {
     "cell_type": "code",
     "collapsed": false,
     "input": [
      "with h5py.File('sample_data_2_gzip.h5', 'w') as ff:\n",
      "    ff.create_dataset(\n",
      "        'data', data=data + total_size,\n",
      "        compression='gzip', compression_opts=1\n",
      "    )\n",
      "    ff.create_dataset(\n",
      "        'label', data=label,\n",
      "        compression='gzip', compression_opts=1\n",
      "    )\n"
     ],
     "language": "python",
     "metadata": {},
     "outputs": []
    },
    {
     "cell_type": "markdown",
     "metadata": {},
     "source": [
      "Take a look at the file"
     ]
    },
    {
     "cell_type": "code",
     "collapsed": false,
     "input": [
      "with h5py.File('sample_data.h5', 'r') as ff:\n",
      "    for field_name in ff:\n",
      "        print field_name, ':', ff[field_name]\n"
     ],
     "language": "python",
     "metadata": {},
     "outputs": []
    },
    {
     "cell_type": "markdown",
     "metadata": {},
     "source": [
      "Make H5 file for ImageNet"
     ]
    },
    {
     "cell_type": "code",
     "collapsed": false,
     "input": [
      "assert False, 'Import this from caffe/data/pascal instead!'\n",
      "\n",
      "save_as_floats = True\n",
      "import pdb\n",
      "\n",
      "def load_int_image(filename):\n",
      "    '''\n",
      "    Loads image using skimage, converting from grayscale or alpha as needed. Modified from io.py\n",
      "    '''\n",
      "    \n",
      "    '''\n",
      "    skimage.io.imread produces an array of shape (height, width, channels)\n",
      "    In [148]: im = skimage.io.imread('/home/jyosinsk/s/caffe/examples/images/lion.jpg')\n",
      "    In [149]: im.shape\n",
      "    Out[149]: (660, 800, 3)\n",
      "    '''    \n",
      "    img = skimage.io.imread(filename)\n",
      "        \n",
      "    if img.ndim == 2:\n",
      "        img = np.tile(img[:, :, np.newaxis], (1, 1, 3))\n",
      "    elif img.shape[2] == 4:\n",
      "\timg = img[:, :, :3]\n",
      "    return img\n",
      "\n",
      "def makeit(h5_filename, label_filename, image_dir):\n",
      "    '''Make an H5 dataset'''\n",
      "    \n",
      "    img_filenames = []\n",
      "    img_labels = []\n",
      "    with open(label_filename, 'r') as labelfile:\n",
      "        for line in labelfile:\n",
      "            filename, label = line.split()\n",
      "            img_filenames.append(filename)\n",
      "            img_labels.append(int(label))\n",
      "    n_images = len(img_filenames)\n",
      "    print n_images, 'images'\n",
      "    \n",
      "    with h5py.File(h5_filename, 'w') as h5:\n",
      "        if save_as_floats:\n",
      "            h5.create_dataset('data',\n",
      "                              (n_images, 3, 256, 256),\n",
      "                              dtype='float32',\n",
      "                              chunks = True)\n",
      "            h5.create_dataset('label',\n",
      "                              (n_images,),\n",
      "                              dtype='float32')\n",
      "        else:\n",
      "            h5.create_dataset('data',\n",
      "                              (n_images, 3, 256, 256),\n",
      "                              dtype='uint8',\n",
      "                              chunks = True)\n",
      "            h5.create_dataset('label',\n",
      "                              (n_images,),\n",
      "                              dtype='int32')\n",
      "        data = h5['data']\n",
      "        labels = h5['label']\n",
      "        #for ii in xrange(3):\n",
      "        for ii in xrange(n_images):\n",
      "            img_filename = img_filenames[ii]\n",
      "            img_label = img_labels[ii]\n",
      "            # Use this version for float\n",
      "            #arr = caffe.io.load_image('%s/%s' % (image_dir, img_filename))\n",
      "            #data[ii] = arr * 255\n",
      "            # Use this version for int8\n",
      "            arr = load_int_image('%s/%s' % (image_dir, img_filename))\n",
      "            # Transpose from (height, width, channels) to (channels, height, width)\n",
      "            arr = arr.transpose(2,0,1)\n",
      "            #print img_filename, img_label, arr.shape\n",
      "            data[ii] = arr\n",
      "            labels[ii] = img_label\n",
      "            if ii%100 == 0:\n",
      "                print 'Processed', ii, 'so far'\n",
      "        print 'Finished processing', ii+1, 'files'\n",
      "            "
     ],
     "language": "python",
     "metadata": {},
     "outputs": []
    },
    {
     "cell_type": "code",
     "collapsed": false,
     "input": [
      "data_dir = caffe_root + '/data/ilsvrc12/data'\n",
      "imagenet_dir = os.environ['HOME'] + '/data/imagenet2012'"
     ],
     "language": "python",
     "metadata": {},
     "outputs": []
    },
    {
     "cell_type": "markdown",
     "metadata": {},
     "source": [
      "Make tiny datasets (10 examples)"
     ]
    },
    {
     "cell_type": "code",
     "collapsed": false,
     "input": [
      "makeit('%s/tiny_train/h5/data.h5' % data_dir,\n",
      "       '%s/tiny_train/files.txt' % data_dir,\n",
      "       '%s/train' % imagenet_dir)"
     ],
     "language": "python",
     "metadata": {},
     "outputs": []
    },
    {
     "cell_type": "code",
     "collapsed": false,
     "input": [
      "makeit('%s/tiny_valid/h5/data.h5' % data_dir,\n",
      "       '%s/tiny_valid/files.txt' % data_dir,\n",
      "       '%s/val' % imagenet_dir)"
     ],
     "language": "python",
     "metadata": {},
     "outputs": []
    },
    {
     "cell_type": "markdown",
     "metadata": {},
     "source": [
      "Make small datasets (1000 examples)"
     ]
    },
    {
     "cell_type": "code",
     "collapsed": false,
     "input": [
      "makeit('%s/small_train/h5/data.h5' % data_dir,\n",
      "       '%s/small_train/files.txt' % data_dir,\n",
      "       '%s/train' % imagenet_dir)"
     ],
     "language": "python",
     "metadata": {},
     "outputs": []
    },
    {
     "cell_type": "code",
     "collapsed": false,
     "input": [
      "makeit('%s/small_valid/h5/data.h5' % data_dir,\n",
      "       '%s/small_valid/files.txt' % data_dir,\n",
      "       '%s/val' % imagenet_dir)"
     ],
     "language": "python",
     "metadata": {},
     "outputs": []
    },
    {
     "cell_type": "markdown",
     "metadata": {},
     "source": [
      "Peek"
     ]
    },
    {
     "cell_type": "code",
     "collapsed": false,
     "input": [
      "with h5py.File('%s/small_train/h5/data.h5' % data_dir, 'r') as ff:\n",
      "    for field_name in ff:\n",
      "        print field_name, ':', ff[field_name]\n",
      "        print '  first example is', ff[field_name][0]\n",
      "        print\n"
     ],
     "language": "python",
     "metadata": {},
     "outputs": []
    },
    {
     "cell_type": "markdown",
     "metadata": {},
     "source": [
      "### Inspect created file"
     ]
    },
    {
     "cell_type": "code",
     "collapsed": false,
     "input": [
      "#h5_file = caffe_root + 'data/pascal/data/whole_train/classification_h5/data.000.h5'\n",
      "h5_file = caffe_root + 'data/pascal/data/whole_valid/classification_h5/data.000.h5'\n"
     ],
     "language": "python",
     "metadata": {},
     "outputs": []
    },
    {
     "cell_type": "code",
     "collapsed": false,
     "input": [
      "with h5py.File(h5_file, 'r') as ff:\n",
      "    for field_name in ff:\n",
      "        print field_name, ':', ff[field_name]\n",
      "        print '  first example is', ff[field_name][0]\n",
      "        print\n"
     ],
     "language": "python",
     "metadata": {},
     "outputs": []
    },
    {
     "cell_type": "markdown",
     "metadata": {},
     "source": [
      "## Notes"
     ]
    },
    {
     "cell_type": "markdown",
     "metadata": {},
     "source": [
      "Loading 1000 images (189MB at 1 byte/pixel or 757MB at 4 bytes/pixel) in Caffe takes 0.7 seconds:\n",
      "\n",
      "    I0815 16:40:24.253459 31786 hdf5_data_layer.cpp:29] Loading HDF5 fileimagenet_val_h5\n",
      "    I0815 16:40:24.955829 31786 hdf5_data_layer.cpp:40] JBY: loaded data_blob_ with size (num: 1000, channels: 3, height: 256, width: 256, count: 196608000)\n",
      "    I0815 16:40:24.956024 31786 hdf5_data_layer.cpp:50] JBY: loaded label_blob_ with size (num: 1000, channels: 1, height: 1, width: 1, count: 1000)\n",
      "    I0815 16:40:24.956198 31786 hdf5_data_layer.cpp:59] Successully loaded 1000 rows"
     ]
    },
    {
     "cell_type": "markdown",
     "metadata": {},
     "source": [
      "Scratch"
     ]
    },
    {
     "cell_type": "code",
     "collapsed": false,
     "input": [
      "%connect_info"
     ],
     "language": "python",
     "metadata": {},
     "outputs": []
    }
   ],
   "metadata": {}
  }
 ]
}