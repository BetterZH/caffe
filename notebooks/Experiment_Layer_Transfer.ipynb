{
 "metadata": {
  "name": ""
 },
 "nbformat": 3,
 "nbformat_minor": 0,
 "worksheets": [
  {
   "cells": [
    {
     "cell_type": "markdown",
     "metadata": {},
     "source": [
      "View at: http://nbviewer.ipython.org/url/yosinski.cs.cornell.edu/AB_Split_Experiment.ipynb\n"
     ]
    },
    {
     "cell_type": "code",
     "collapsed": false,
     "input": [
      "from localdefs import *\n",
      "from pylab import *\n",
      "%matplotlib inline\n",
      "\n",
      "# Add some locations to path\n",
      "caffe_root = '../'\n",
      "import sys\n",
      "sys.path.insert(0, caffe_root + 'python')\n",
      "sys.path.insert(0, caffe_root + 'jason')\n",
      "\n",
      "results_root = caffe_root + 'examples/imagenet/results/'\n",
      "figsize(15,8)"
     ],
     "language": "python",
     "metadata": {},
     "outputs": []
    },
    {
     "cell_type": "code",
     "collapsed": false,
     "input": [
      "from plot_perf import read_info, convert_dict\n",
      "import glob\n",
      "\n",
      "\n",
      "def load_results(filename_pattern):\n",
      "    logfiles = glob.glob(filename_pattern)\n",
      "\n",
      "    #print 'got files:', logfiles\n",
      "\n",
      "    dicts = read_info(logfiles)\n",
      "\n",
      "    arrays = [convert_dict(dd) for dd in dicts]\n",
      "    #loss_train, lr, test_score_0, test_score_1 = dicts\n",
      "\n",
      "    ret = dict()\n",
      "    ret['train_loss'] =   {'idx': arrays[0][0], 'val': arrays[0][1]}  # training loss\n",
      "    ret['lr'] =           {'idx': arrays[1][0], 'val': arrays[1][1]}  # learning rate\n",
      "    ret['test_score_0'] = {'idx': arrays[2][0], 'val': arrays[2][1]}  # top-1 accuracy on valid set\n",
      "    ret['test_score_1'] = {'idx': arrays[3][0], 'val': arrays[3][1]}  # loss on valid set\n",
      "    \n",
      "    # Also make test_score_* available under more friendly names:\n",
      "    ret['valid_loss'] = ret['test_score_1']\n",
      "    ret['valid_top1_acc'] = ret['test_score_0']\n",
      "    \n",
      "    return ret\n",
      "    "
     ],
     "language": "python",
     "metadata": {},
     "outputs": []
    },
    {
     "cell_type": "code",
     "collapsed": false,
     "input": [
      "result_base = load_results(results_root + '14*netbase/*.[eo]*')\n",
      "\n",
      "def plot_results(res, ax1='tight', ax2='tight'):\n",
      "    #figsize(16,10)\n",
      "    #subplot(2,1,1)\n",
      "\n",
      "    subplot2grid((2,3), (0,0), colspan=2)\n",
      "    #plot(res['train_loss']['idx'], res['train_loss']['val'], 'b')\n",
      "    #plot(res['valid_loss']['idx'], res['valid_loss']['val'], 'r')\n",
      "    plot(res['train_loss']['idx'], res['train_loss']['val'])\n",
      "    plot(res['valid_loss']['idx'], res['valid_loss']['val'])\n",
      "    ylabel('loss')\n",
      "\n",
      "    subplot2grid((2,3), (0,2), colspan=1)\n",
      "    #plot(res['train_loss']['idx'], res['train_loss']['val'], 'b')\n",
      "    #plot(res['valid_loss']['idx'], res['valid_loss']['val'], 'r')\n",
      "    plot(res['train_loss']['idx'], res['train_loss']['val'])\n",
      "    plot(res['valid_loss']['idx'], res['valid_loss']['val'])\n",
      "    axis(ax1)\n",
      "    \n",
      "    subplot2grid((2,3), (1,0), colspan=2)\n",
      "    #subplot(2,1,2)\n",
      "    plot(res['valid_top1_acc']['idx'], 1-res['valid_top1_acc']['val'], 'b')\n",
      "    ylabel('top-1 err')\n",
      "\n",
      "    subplot2grid((2,3), (1,2), colspan=1)\n",
      "    #subplot(2,1,2)\n",
      "    plot(res['valid_top1_acc']['idx'], 1-res['valid_top1_acc']['val'], 'b')\n",
      "    axis(ax2)\n",
      "\n",
      "plot_results(result_base, ax1=(300000, 450000, 0, 2), ax2=(300000, 450000, .3, .5))"
     ],
     "language": "python",
     "metadata": {},
     "outputs": []
    },
    {
     "cell_type": "code",
     "collapsed": false,
     "input": [
      "result_hh = load_results(results_root + '*half0A/*.[eo]*')\n",
      "#plot_results(result_hh)\n",
      "plot_results(result_hh, ax1=(300000, 450000, 0, 2), ax2=(000000, 450000, .38, .40))"
     ],
     "language": "python",
     "metadata": {},
     "outputs": []
    },
    {
     "cell_type": "code",
     "collapsed": false,
     "input": [
      "results_splits = []\n",
      "suffixes = ('0A', '0B', '1A', '1B', '2A', '2B', '3A', '3B')\n",
      "\n",
      "for suffix in suffixes:\n",
      "    result = load_results(results_root + '*half%s/*.[eo]*' % suffix)\n",
      "    results_splits.append(result)"
     ],
     "language": "python",
     "metadata": {},
     "outputs": []
    },
    {
     "cell_type": "markdown",
     "metadata": {},
     "source": [
      "Here we can see that the top-1 error is better for the split sets (colors) than the base set of 1000 (black)"
     ]
    },
    {
     "cell_type": "code",
     "collapsed": false,
     "input": [
      "for result_split in results_splits:\n",
      "    plot(result_split['valid_top1_acc']['idx'], 1-result_split['valid_top1_acc']['val'])\n",
      "plot(result_base['valid_top1_acc']['idx'], 1-result_base['valid_top1_acc']['val'], 'k', linewidth=2)"
     ],
     "language": "python",
     "metadata": {},
     "outputs": []
    },
    {
     "cell_type": "code",
     "collapsed": false,
     "input": [
      "for result_split in results_splits:\n",
      "    plot(result_split['valid_loss']['idx'], result_split['valid_loss']['val'])\n",
      "plot(result_base['valid_loss']['idx'], result_base['valid_loss']['val'], 'k', linewidth=2)"
     ],
     "language": "python",
     "metadata": {},
     "outputs": []
    },
    {
     "cell_type": "markdown",
     "metadata": {},
     "source": [
      "## Partial results"
     ]
    },
    {
     "cell_type": "code",
     "collapsed": false,
     "input": [
      "dirs = [\n",
      "'140415_235449_1d8ae60_priv_transfer0A0B_1_1',\n",
      "'140415_235452_1d8ae60_priv_transfer0B0A_1_1',\n",
      "'140415_235454_1d8ae60_priv_transfer0A0A_1_1',\n",
      "'140415_235458_1d8ae60_priv_transfer0A0B_1_2',\n",
      "'140415_235501_1d8ae60_priv_transfer0B0A_1_2',\n",
      "'140415_235503_1d8ae60_priv_transfer0A0A_1_2',\n",
      "'140415_235507_1d8ae60_priv_transfer0A0B_1_3',\n",
      "'140415_235510_1d8ae60_priv_transfer0B0A_1_3',\n",
      "'140415_235512_1d8ae60_priv_transfer0A0A_1_3',\n",
      "'140415_235516_1d8ae60_priv_transfer0A0B_1_4',\n",
      "'140415_235519_1d8ae60_priv_transfer0B0A_1_4',\n",
      "'140415_235521_1d8ae60_priv_transfer0A0A_1_4',\n",
      "'140415_235525_1d8ae60_priv_transfer0A0B_1_5',\n",
      "'140415_235527_1d8ae60_priv_transfer0B0A_1_5',\n",
      "'140415_235530_1d8ae60_priv_transfer0A0A_1_5',\n",
      "'140415_235534_1d8ae60_priv_transfer0A0B_1_6',\n",
      "'140415_235536_1d8ae60_priv_transfer0B0A_1_6',\n",
      "'140415_235539_1d8ae60_priv_transfer0A0A_1_6',\n",
      "'140415_235543_1d8ae60_priv_transfer0A0B_1_7',\n",
      "'140415_235545_1d8ae60_priv_transfer0B0A_1_7',\n",
      "'140415_235548_1d8ae60_priv_transfer0A0A_1_7',\n",
      "'140415_235552_1d8ae60_priv_transfer1A1B_1_1',\n",
      "'140415_235557_1d8ae60_priv_transfer1A1A_1_1',\n",
      "'140415_235601_1d8ae60_priv_transfer1A1B_1_2',\n",
      "'140415_235604_1d8ae60_priv_transfer1B1A_1_2',\n",
      "'140415_235606_1d8ae60_priv_transfer1A1A_1_2',\n",
      "'140415_235610_1d8ae60_priv_transfer1A1B_1_3',\n",
      "'140415_235613_1d8ae60_priv_transfer1B1A_1_3',\n",
      "'140415_235615_1d8ae60_priv_transfer1A1A_1_3',\n",
      "'140415_235619_1d8ae60_priv_transfer1A1B_1_4',\n",
      "'140415_235622_1d8ae60_priv_transfer1B1A_1_4',\n",
      "'140415_235624_1d8ae60_priv_transfer1A1A_1_4',\n",
      "'140415_235628_1d8ae60_priv_transfer1A1B_1_5',\n",
      "'140415_235631_1d8ae60_priv_transfer1B1A_1_5',\n",
      "'140415_235633_1d8ae60_priv_transfer1A1A_1_5',\n",
      "'140415_235637_1d8ae60_priv_transfer1A1B_1_6',\n",
      "'140415_235640_1d8ae60_priv_transfer1B1A_1_6',\n",
      "'140415_235642_1d8ae60_priv_transfer1A1A_1_6',\n",
      "'140415_235646_1d8ae60_priv_transfer1A1B_1_7',\n",
      "'140415_235649_1d8ae60_priv_transfer1B1A_1_7',\n",
      "'140415_235651_1d8ae60_priv_transfer1A1A_1_7']"
     ],
     "language": "python",
     "metadata": {},
     "outputs": []
    },
    {
     "cell_type": "code",
     "collapsed": false,
     "input": [
      "results_transfer = {}\n",
      "\n",
      "for dir in dirs:\n",
      "    result = load_results(results_root + '%s/*.[eo]*' % dir)\n",
      "    results_transfer[dir] = result"
     ],
     "language": "python",
     "metadata": {},
     "outputs": []
    },
    {
     "cell_type": "code",
     "collapsed": false,
     "input": [
      "def plot_transfer_perf(clrmap, legend_dict = None):\n",
      "    hold(True)\n",
      "    last_n = 100\n",
      "    handles = {}\n",
      "    for result_split in results_splits:\n",
      "        accs = result_split['valid_top1_acc']['val']\n",
      "        mean_best = sort(accs)[-last_n:].mean()\n",
      "        handles['k'], = plot([0], [mean_best], 'o', color = 'k', markersize=10)\n",
      "    \n",
      "    for dir in dirs:\n",
      "    #    accs = results_transfer['140415_235449_1d8ae60_priv_transfer0A0B_1_1']['valid_top1_acc']['val']\n",
      "        layer_id = int(dir[-1])\n",
      "        #print layer_id\n",
      "        accs = results_transfer[dir]['valid_top1_acc']['val']\n",
      "        mean_best = sort(accs)[-last_n:].mean()\n",
      "        #print mean_best\n",
      "        xfer_key = dir[-7] + dir[-5]\n",
      "        if xfer_key not in clrmap:\n",
      "            continue\n",
      "        clr = clrmap[xfer_key]\n",
      "        handles[clr], = plot([layer_id], [mean_best], 'o', color = clr, markersize=10)\n",
      "    ax = axis()\n",
      "    ylabel('top-1 validation accuracy')\n",
      "    xlabel('layers 1...N copied from base network trained on alternate dataset')\n",
      "\n",
      "    if legend_dict:\n",
      "        legend([handles[key] for key in handles.keys()], [legend_dict[key] for key in handles.keys()],\n",
      "               loc='lower left')\n",
      "        \n",
      "    _=axis((-.5, 7.5) + ax[2:4])"
     ],
     "language": "python",
     "metadata": {},
     "outputs": []
    },
    {
     "cell_type": "code",
     "collapsed": false,
     "input": [
      "figsize(12,8)\n",
      "plot_transfer_perf({'AB': 'r', 'BA': 'r',},\n",
      "                   {'k': 'base A (no layers copied)', 'r': 'transfer A->B (first N layers copied)'})"
     ],
     "language": "python",
     "metadata": {},
     "outputs": []
    },
    {
     "cell_type": "code",
     "collapsed": false,
     "input": [
      "plot_transfer_perf({'AA': 'b', 'BB': 'b', 'AB': 'r', 'BA': 'r',},\n",
      "                   {'k': 'base A (no layers copied)', 'r': 'transfer A->B (first N layers copied)',\n",
      "                    'b': 'just retrained A->A'})"
     ],
     "language": "python",
     "metadata": {},
     "outputs": []
    },
    {
     "cell_type": "markdown",
     "metadata": {},
     "source": [
      "# Scratch"
     ]
    },
    {
     "cell_type": "code",
     "collapsed": false,
     "input": [
      "%connect_info"
     ],
     "language": "python",
     "metadata": {},
     "outputs": []
    }
   ],
   "metadata": {}
  }
 ]
}